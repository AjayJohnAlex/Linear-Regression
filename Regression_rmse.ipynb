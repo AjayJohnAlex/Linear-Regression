{
  "nbformat": 4,
  "nbformat_minor": 0,
  "metadata": {
    "colab": {
      "name": "Regression_rmse",
      "provenance": [],
      "authorship_tag": "ABX9TyP8y0IffaQy7P/e/4ae3WFS",
      "include_colab_link": true
    },
    "kernelspec": {
      "name": "python3",
      "display_name": "Python 3"
    }
  },
  "cells": [
    {
      "cell_type": "markdown",
      "metadata": {
        "id": "view-in-github",
        "colab_type": "text"
      },
      "source": [
        "<a href=\"https://colab.research.google.com/github/AjayJohnAlex/Linear-Regression/blob/master/Regression_rmse.ipynb\" target=\"_parent\"><img src=\"https://colab.research.google.com/assets/colab-badge.svg\" alt=\"Open In Colab\"/></a>"
      ]
    },
    {
      "cell_type": "code",
      "metadata": {
        "id": "baVPIJR1M2Qw",
        "colab_type": "code",
        "outputId": "91bd68fa-5bad-4ebb-a17f-b0e42af73773",
        "colab": {
          "base_uri": "https://localhost:8080/",
          "height": 34
        }
      },
      "source": [
        "print(\"hello\")"
      ],
      "execution_count": 0,
      "outputs": [
        {
          "output_type": "stream",
          "text": [
            "hello\n"
          ],
          "name": "stdout"
        }
      ]
    },
    {
      "cell_type": "code",
      "metadata": {
        "id": "PDQ8r8kGNBAu",
        "colab_type": "code",
        "colab": {}
      },
      "source": [
        "import pandas as pd\n",
        "import numpy as np\n",
        "import matplotlib.pyplot as plt\n",
        "import seaborn as sns\n",
        "%matplotlib inline"
      ],
      "execution_count": 0,
      "outputs": []
    },
    {
      "cell_type": "code",
      "metadata": {
        "id": "x127XTkpRJpa",
        "colab_type": "code",
        "outputId": "c6d720aa-71df-4b56-8866-9c5774dc852d",
        "colab": {
          "base_uri": "https://localhost:8080/",
          "height": 340
        }
      },
      "source": [
        "df2 = pd.read_csv('/content/Expander_data.csv')\n",
        "df2.head()"
      ],
      "execution_count": 0,
      "outputs": [
        {
          "output_type": "execute_result",
          "data": {
            "text/html": [
              "<div>\n",
              "<style scoped>\n",
              "    .dataframe tbody tr th:only-of-type {\n",
              "        vertical-align: middle;\n",
              "    }\n",
              "\n",
              "    .dataframe tbody tr th {\n",
              "        vertical-align: top;\n",
              "    }\n",
              "\n",
              "    .dataframe thead th {\n",
              "        text-align: right;\n",
              "    }\n",
              "</style>\n",
              "<table border=\"1\" class=\"dataframe\">\n",
              "  <thead>\n",
              "    <tr style=\"text-align: right;\">\n",
              "      <th></th>\n",
              "      <th>Timestamp</th>\n",
              "      <th>Suction Pressure (psig)</th>\n",
              "      <th>Suction Temperature (F)</th>\n",
              "      <th>Total Flow (gpm)</th>\n",
              "      <th>Speed (rpm)</th>\n",
              "      <th>By-pass Valve Position (%)</th>\n",
              "      <th>Discharge Pressure (psig)</th>\n",
              "      <th>Discharge Temperature (F)</th>\n",
              "      <th>Run Status</th>\n",
              "    </tr>\n",
              "  </thead>\n",
              "  <tbody>\n",
              "    <tr>\n",
              "      <th>0</th>\n",
              "      <td>1/4/2020 21:20</td>\n",
              "      <td>596.100853</td>\n",
              "      <td>-229.436683</td>\n",
              "      <td>7925.800487</td>\n",
              "      <td>2999.411045</td>\n",
              "      <td>6.0</td>\n",
              "      <td>226.044931</td>\n",
              "      <td>-227.614448</td>\n",
              "      <td>NaN</td>\n",
              "    </tr>\n",
              "    <tr>\n",
              "      <th>1</th>\n",
              "      <td>1/4/2020 21:20</td>\n",
              "      <td>596.838217</td>\n",
              "      <td>-230.453708</td>\n",
              "      <td>8085.917724</td>\n",
              "      <td>2989.706617</td>\n",
              "      <td>6.0</td>\n",
              "      <td>217.150974</td>\n",
              "      <td>-228.668636</td>\n",
              "      <td>NaN</td>\n",
              "    </tr>\n",
              "    <tr>\n",
              "      <th>2</th>\n",
              "      <td>1/4/2020 21:20</td>\n",
              "      <td>596.468895</td>\n",
              "      <td>-229.545356</td>\n",
              "      <td>7902.175243</td>\n",
              "      <td>3006.331679</td>\n",
              "      <td>6.0</td>\n",
              "      <td>226.054086</td>\n",
              "      <td>-227.755324</td>\n",
              "      <td>NaN</td>\n",
              "    </tr>\n",
              "    <tr>\n",
              "      <th>3</th>\n",
              "      <td>1/4/2020 21:20</td>\n",
              "      <td>603.568271</td>\n",
              "      <td>-230.309438</td>\n",
              "      <td>7991.808959</td>\n",
              "      <td>3010.487486</td>\n",
              "      <td>6.0</td>\n",
              "      <td>226.016182</td>\n",
              "      <td>-228.489113</td>\n",
              "      <td>NaN</td>\n",
              "    </tr>\n",
              "    <tr>\n",
              "      <th>4</th>\n",
              "      <td>1/4/2020 21:21</td>\n",
              "      <td>595.407372</td>\n",
              "      <td>-229.767969</td>\n",
              "      <td>7871.560747</td>\n",
              "      <td>2986.665518</td>\n",
              "      <td>6.0</td>\n",
              "      <td>227.769383</td>\n",
              "      <td>-227.971795</td>\n",
              "      <td>NaN</td>\n",
              "    </tr>\n",
              "  </tbody>\n",
              "</table>\n",
              "</div>"
            ],
            "text/plain": [
              "        Timestamp  ...  Run Status\n",
              "0  1/4/2020 21:20  ...         NaN\n",
              "1  1/4/2020 21:20  ...         NaN\n",
              "2  1/4/2020 21:20  ...         NaN\n",
              "3  1/4/2020 21:20  ...         NaN\n",
              "4  1/4/2020 21:21  ...         NaN\n",
              "\n",
              "[5 rows x 9 columns]"
            ]
          },
          "metadata": {
            "tags": []
          },
          "execution_count": 3
        }
      ]
    },
    {
      "cell_type": "code",
      "metadata": {
        "id": "vjplZR7QW3LS",
        "colab_type": "code",
        "outputId": "2e7ec619-554b-4502-a0de-488f8ffc28bd",
        "colab": {
          "base_uri": "https://localhost:8080/",
          "height": 255
        }
      },
      "source": [
        "df2.info()"
      ],
      "execution_count": 0,
      "outputs": [
        {
          "output_type": "stream",
          "text": [
            "<class 'pandas.core.frame.DataFrame'>\n",
            "RangeIndex: 296450 entries, 0 to 296449\n",
            "Data columns (total 9 columns):\n",
            "Timestamp                     296450 non-null object\n",
            "Suction Pressure (psig)       296450 non-null float64\n",
            "Suction Temperature (F)       296450 non-null float64\n",
            "Total Flow (gpm)              296450 non-null float64\n",
            "Speed (rpm)                   296450 non-null float64\n",
            "By-pass Valve Position (%)    296450 non-null float64\n",
            "Discharge Pressure (psig)     296450 non-null float64\n",
            "Discharge Temperature (F)     296450 non-null float64\n",
            "Run Status                    0 non-null float64\n",
            "dtypes: float64(8), object(1)\n",
            "memory usage: 20.4+ MB\n"
          ],
          "name": "stdout"
        }
      ]
    },
    {
      "cell_type": "code",
      "metadata": {
        "id": "va8e6sflW6pf",
        "colab_type": "code",
        "outputId": "bbc4ddbb-bb96-4804-c32e-b9a1e41907db",
        "colab": {
          "base_uri": "https://localhost:8080/",
          "height": 323
        }
      },
      "source": [
        "df2 = df2.drop('Run Status',axis=1)\n",
        "df2.head()"
      ],
      "execution_count": 0,
      "outputs": [
        {
          "output_type": "execute_result",
          "data": {
            "text/html": [
              "<div>\n",
              "<style scoped>\n",
              "    .dataframe tbody tr th:only-of-type {\n",
              "        vertical-align: middle;\n",
              "    }\n",
              "\n",
              "    .dataframe tbody tr th {\n",
              "        vertical-align: top;\n",
              "    }\n",
              "\n",
              "    .dataframe thead th {\n",
              "        text-align: right;\n",
              "    }\n",
              "</style>\n",
              "<table border=\"1\" class=\"dataframe\">\n",
              "  <thead>\n",
              "    <tr style=\"text-align: right;\">\n",
              "      <th></th>\n",
              "      <th>Timestamp</th>\n",
              "      <th>Suction Pressure (psig)</th>\n",
              "      <th>Suction Temperature (F)</th>\n",
              "      <th>Total Flow (gpm)</th>\n",
              "      <th>Speed (rpm)</th>\n",
              "      <th>By-pass Valve Position (%)</th>\n",
              "      <th>Discharge Pressure (psig)</th>\n",
              "      <th>Discharge Temperature (F)</th>\n",
              "    </tr>\n",
              "  </thead>\n",
              "  <tbody>\n",
              "    <tr>\n",
              "      <th>0</th>\n",
              "      <td>1/4/2020 21:20</td>\n",
              "      <td>596.100853</td>\n",
              "      <td>-229.436683</td>\n",
              "      <td>7925.800487</td>\n",
              "      <td>2999.411045</td>\n",
              "      <td>6.0</td>\n",
              "      <td>226.044931</td>\n",
              "      <td>-227.614448</td>\n",
              "    </tr>\n",
              "    <tr>\n",
              "      <th>1</th>\n",
              "      <td>1/4/2020 21:20</td>\n",
              "      <td>596.838217</td>\n",
              "      <td>-230.453708</td>\n",
              "      <td>8085.917724</td>\n",
              "      <td>2989.706617</td>\n",
              "      <td>6.0</td>\n",
              "      <td>217.150974</td>\n",
              "      <td>-228.668636</td>\n",
              "    </tr>\n",
              "    <tr>\n",
              "      <th>2</th>\n",
              "      <td>1/4/2020 21:20</td>\n",
              "      <td>596.468895</td>\n",
              "      <td>-229.545356</td>\n",
              "      <td>7902.175243</td>\n",
              "      <td>3006.331679</td>\n",
              "      <td>6.0</td>\n",
              "      <td>226.054086</td>\n",
              "      <td>-227.755324</td>\n",
              "    </tr>\n",
              "    <tr>\n",
              "      <th>3</th>\n",
              "      <td>1/4/2020 21:20</td>\n",
              "      <td>603.568271</td>\n",
              "      <td>-230.309438</td>\n",
              "      <td>7991.808959</td>\n",
              "      <td>3010.487486</td>\n",
              "      <td>6.0</td>\n",
              "      <td>226.016182</td>\n",
              "      <td>-228.489113</td>\n",
              "    </tr>\n",
              "    <tr>\n",
              "      <th>4</th>\n",
              "      <td>1/4/2020 21:21</td>\n",
              "      <td>595.407372</td>\n",
              "      <td>-229.767969</td>\n",
              "      <td>7871.560747</td>\n",
              "      <td>2986.665518</td>\n",
              "      <td>6.0</td>\n",
              "      <td>227.769383</td>\n",
              "      <td>-227.971795</td>\n",
              "    </tr>\n",
              "  </tbody>\n",
              "</table>\n",
              "</div>"
            ],
            "text/plain": [
              "        Timestamp  ...  Discharge Temperature (F)\n",
              "0  1/4/2020 21:20  ...                -227.614448\n",
              "1  1/4/2020 21:20  ...                -228.668636\n",
              "2  1/4/2020 21:20  ...                -227.755324\n",
              "3  1/4/2020 21:20  ...                -228.489113\n",
              "4  1/4/2020 21:21  ...                -227.971795\n",
              "\n",
              "[5 rows x 8 columns]"
            ]
          },
          "metadata": {
            "tags": []
          },
          "execution_count": 5
        }
      ]
    },
    {
      "cell_type": "code",
      "metadata": {
        "id": "kvR_g23xXPz-",
        "colab_type": "code",
        "outputId": "2ba67388-3029-4a45-b49a-e276ac8db9cf",
        "colab": {
          "base_uri": "https://localhost:8080/",
          "height": 170
        }
      },
      "source": [
        "df2.nunique()"
      ],
      "execution_count": 0,
      "outputs": [
        {
          "output_type": "execute_result",
          "data": {
            "text/plain": [
              "Timestamp                      74113\n",
              "Suction Pressure (psig)       296390\n",
              "Suction Temperature (F)       295872\n",
              "Total Flow (gpm)              296410\n",
              "Speed (rpm)                   296054\n",
              "By-pass Valve Position (%)     46504\n",
              "Discharge Pressure (psig)     296431\n",
              "Discharge Temperature (F)     295893\n",
              "dtype: int64"
            ]
          },
          "metadata": {
            "tags": []
          },
          "execution_count": 9
        }
      ]
    },
    {
      "cell_type": "code",
      "metadata": {
        "id": "ZdCyPzBTXkTM",
        "colab_type": "code",
        "outputId": "3cedc7b1-03b8-4cf6-cb93-3000c61f962c",
        "colab": {
          "base_uri": "https://localhost:8080/",
          "height": 407
        }
      },
      "source": [
        "sns.heatmap(df2.corr(),annot=True)"
      ],
      "execution_count": 0,
      "outputs": [
        {
          "output_type": "execute_result",
          "data": {
            "text/plain": [
              "<matplotlib.axes._subplots.AxesSubplot at 0x7f81f6b035c0>"
            ]
          },
          "metadata": {
            "tags": []
          },
          "execution_count": 10
        },
        {
          "output_type": "display_data",
          "data": {
            "image/png": "[encoded data removed]",
            "text/plain": [
              "<Figure size 432x288 with 2 Axes>"
            ]
          },
          "metadata": {
            "tags": []
          }
        }
      ]
    },
    {
      "cell_type": "code",
      "metadata": {
        "id": "BPfjN_FrbFzb",
        "colab_type": "code",
        "outputId": "b6d9309b-e9d3-49e2-9b14-cd6624fb3282",
        "colab": {
          "base_uri": "https://localhost:8080/",
          "height": 331
        }
      },
      "source": [
        "df2.describe()"
      ],
      "execution_count": 0,
      "outputs": [
        {
          "output_type": "execute_result",
          "data": {
            "text/html": [
              "<div>\n",
              "<style scoped>\n",
              "    .dataframe tbody tr th:only-of-type {\n",
              "        vertical-align: middle;\n",
              "    }\n",
              "\n",
              "    .dataframe tbody tr th {\n",
              "        vertical-align: top;\n",
              "    }\n",
              "\n",
              "    .dataframe thead th {\n",
              "        text-align: right;\n",
              "    }\n",
              "</style>\n",
              "<table border=\"1\" class=\"dataframe\">\n",
              "  <thead>\n",
              "    <tr style=\"text-align: right;\">\n",
              "      <th></th>\n",
              "      <th>Suction Pressure (psig)</th>\n",
              "      <th>Suction Temperature (F)</th>\n",
              "      <th>Total Flow (gpm)</th>\n",
              "      <th>Speed (rpm)</th>\n",
              "      <th>By-pass Valve Position (%)</th>\n",
              "      <th>Discharge Pressure (psig)</th>\n",
              "      <th>Discharge Temperature (F)</th>\n",
              "    </tr>\n",
              "  </thead>\n",
              "  <tbody>\n",
              "    <tr>\n",
              "      <th>count</th>\n",
              "      <td>296450.000000</td>\n",
              "      <td>296450.000000</td>\n",
              "      <td>296450.000000</td>\n",
              "      <td>296450.000000</td>\n",
              "      <td>296450.000000</td>\n",
              "      <td>296450.000000</td>\n",
              "      <td>296450.000000</td>\n",
              "    </tr>\n",
              "    <tr>\n",
              "      <th>mean</th>\n",
              "      <td>590.541350</td>\n",
              "      <td>-231.564934</td>\n",
              "      <td>8119.917777</td>\n",
              "      <td>2955.416695</td>\n",
              "      <td>2.005667</td>\n",
              "      <td>186.991087</td>\n",
              "      <td>-229.764934</td>\n",
              "    </tr>\n",
              "    <tr>\n",
              "      <th>std</th>\n",
              "      <td>23.216552</td>\n",
              "      <td>3.574107</td>\n",
              "      <td>398.049531</td>\n",
              "      <td>54.201467</td>\n",
              "      <td>2.488568</td>\n",
              "      <td>56.205183</td>\n",
              "      <td>3.574136</td>\n",
              "    </tr>\n",
              "    <tr>\n",
              "      <th>min</th>\n",
              "      <td>552.420048</td>\n",
              "      <td>-238.594971</td>\n",
              "      <td>7056.004500</td>\n",
              "      <td>2835.750571</td>\n",
              "      <td>-0.200000</td>\n",
              "      <td>69.983885</td>\n",
              "      <td>-236.816223</td>\n",
              "    </tr>\n",
              "    <tr>\n",
              "      <th>25%</th>\n",
              "      <td>572.757269</td>\n",
              "      <td>-234.171427</td>\n",
              "      <td>7916.322054</td>\n",
              "      <td>2906.336126</td>\n",
              "      <td>0.000000</td>\n",
              "      <td>143.468467</td>\n",
              "      <td>-232.371760</td>\n",
              "    </tr>\n",
              "    <tr>\n",
              "      <th>50%</th>\n",
              "      <td>586.491792</td>\n",
              "      <td>-230.922352</td>\n",
              "      <td>8144.161813</td>\n",
              "      <td>2961.788792</td>\n",
              "      <td>0.000000</td>\n",
              "      <td>183.270451</td>\n",
              "      <td>-229.122946</td>\n",
              "    </tr>\n",
              "    <tr>\n",
              "      <th>75%</th>\n",
              "      <td>605.986608</td>\n",
              "      <td>-229.585168</td>\n",
              "      <td>8388.610374</td>\n",
              "      <td>3000.863611</td>\n",
              "      <td>4.000000</td>\n",
              "      <td>223.580205</td>\n",
              "      <td>-227.785796</td>\n",
              "    </tr>\n",
              "    <tr>\n",
              "      <th>max</th>\n",
              "      <td>649.217417</td>\n",
              "      <td>-223.440125</td>\n",
              "      <td>8975.986378</td>\n",
              "      <td>3090.367995</td>\n",
              "      <td>8.026667</td>\n",
              "      <td>324.411576</td>\n",
              "      <td>-221.617102</td>\n",
              "    </tr>\n",
              "  </tbody>\n",
              "</table>\n",
              "</div>"
            ],
            "text/plain": [
              "       Suction Pressure (psig)  ...  Discharge Temperature (F)\n",
              "count            296450.000000  ...              296450.000000\n",
              "mean                590.541350  ...                -229.764934\n",
              "std                  23.216552  ...                   3.574136\n",
              "min                 552.420048  ...                -236.816223\n",
              "25%                 572.757269  ...                -232.371760\n",
              "50%                 586.491792  ...                -229.122946\n",
              "75%                 605.986608  ...                -227.785796\n",
              "max                 649.217417  ...                -221.617102\n",
              "\n",
              "[8 rows x 7 columns]"
            ]
          },
          "metadata": {
            "tags": []
          },
          "execution_count": 6
        }
      ]
    },
    {
      "cell_type": "code",
      "metadata": {
        "id": "siq6gO0ykIXM",
        "colab_type": "code",
        "colab": {}
      },
      "source": [
        "from sklearn.model_selection import train_test_split"
      ],
      "execution_count": 0,
      "outputs": []
    },
    {
      "cell_type": "code",
      "metadata": {
        "id": "BuTJ2NIkcLNd",
        "colab_type": "code",
        "outputId": "c2c989b5-774b-4be9-ddb8-b4227fb11675",
        "colab": {
          "base_uri": "https://localhost:8080/",
          "height": 170
        }
      },
      "source": [
        "df2.isna().sum()"
      ],
      "execution_count": 0,
      "outputs": [
        {
          "output_type": "execute_result",
          "data": {
            "text/plain": [
              "Timestamp                     0\n",
              "Suction Pressure (psig)       0\n",
              "Suction Temperature (F)       0\n",
              "Total Flow (gpm)              0\n",
              "Speed (rpm)                   0\n",
              "By-pass Valve Position (%)    0\n",
              "Discharge Pressure (psig)     0\n",
              "Discharge Temperature (F)     0\n",
              "dtype: int64"
            ]
          },
          "metadata": {
            "tags": []
          },
          "execution_count": 8
        }
      ]
    },
    {
      "cell_type": "code",
      "metadata": {
        "id": "A7lWIDhId-5p",
        "colab_type": "code",
        "colab": {}
      },
      "source": [
        "df2.dropna(inplace=True)"
      ],
      "execution_count": 0,
      "outputs": []
    },
    {
      "cell_type": "code",
      "metadata": {
        "id": "_uxdHHcqsKIy",
        "colab_type": "code",
        "outputId": "726fc742-7f26-4cdd-b85c-008383e4645a",
        "colab": {
          "base_uri": "https://localhost:8080/",
          "height": 238
        }
      },
      "source": [
        "df2.info()"
      ],
      "execution_count": 0,
      "outputs": [
        {
          "output_type": "stream",
          "text": [
            "<class 'pandas.core.frame.DataFrame'>\n",
            "Int64Index: 296450 entries, 0 to 296449\n",
            "Data columns (total 8 columns):\n",
            "Timestamp                     296450 non-null object\n",
            "Suction Pressure (psig)       296450 non-null float64\n",
            "Suction Temperature (F)       296450 non-null float64\n",
            "Total Flow (gpm)              296450 non-null float64\n",
            "Speed (rpm)                   296450 non-null float64\n",
            "By-pass Valve Position (%)    296450 non-null float64\n",
            "Discharge Pressure (psig)     296450 non-null float64\n",
            "Discharge Temperature (F)     296450 non-null float64\n",
            "dtypes: float64(7), object(1)\n",
            "memory usage: 20.4+ MB\n"
          ],
          "name": "stdout"
        }
      ]
    },
    {
      "cell_type": "code",
      "metadata": {
        "id": "x766GnWcuVyB",
        "colab_type": "code",
        "colab": {}
      },
      "source": [
        "from sklearn.model_selection import train_test_split"
      ],
      "execution_count": 0,
      "outputs": []
    },
    {
      "cell_type": "code",
      "metadata": {
        "id": "66D9JCoCukCd",
        "colab_type": "code",
        "colab": {}
      },
      "source": [
        "X = df2.drop(['Discharge Pressure (psig)','Timestamp'],axis=1)\n",
        "y = df2[['Discharge Pressure (psig)']]"
      ],
      "execution_count": 0,
      "outputs": []
    },
    {
      "cell_type": "code",
      "metadata": {
        "id": "ksY5KVw2u18q",
        "colab_type": "code",
        "colab": {}
      },
      "source": [
        "X_train,X_test,y_train,y_test = train_test_split(X,y,test_size=0.33,random_state=101)"
      ],
      "execution_count": 0,
      "outputs": []
    },
    {
      "cell_type": "code",
      "metadata": {
        "id": "wDFRS6ohv-ka",
        "colab_type": "code",
        "colab": {}
      },
      "source": [
        "import statsmodels.api as sm"
      ],
      "execution_count": 0,
      "outputs": []
    },
    {
      "cell_type": "code",
      "metadata": {
        "id": "8wyekdjE5HZQ",
        "colab_type": "code",
        "outputId": "8c4244d7-2a1c-4554-a368-fb15f1069134",
        "colab": {
          "base_uri": "https://localhost:8080/",
          "height": 221
        }
      },
      "source": [
        "X.head()"
      ],
      "execution_count": 0,
      "outputs": [
        {
          "output_type": "execute_result",
          "data": {
            "text/html": [
              "<div>\n",
              "<style scoped>\n",
              "    .dataframe tbody tr th:only-of-type {\n",
              "        vertical-align: middle;\n",
              "    }\n",
              "\n",
              "    .dataframe tbody tr th {\n",
              "        vertical-align: top;\n",
              "    }\n",
              "\n",
              "    .dataframe thead th {\n",
              "        text-align: right;\n",
              "    }\n",
              "</style>\n",
              "<table border=\"1\" class=\"dataframe\">\n",
              "  <thead>\n",
              "    <tr style=\"text-align: right;\">\n",
              "      <th></th>\n",
              "      <th>Suction Pressure (psig)</th>\n",
              "      <th>Suction Temperature (F)</th>\n",
              "      <th>Total Flow (gpm)</th>\n",
              "      <th>Speed (rpm)</th>\n",
              "      <th>By-pass Valve Position (%)</th>\n",
              "      <th>Discharge Temperature (F)</th>\n",
              "    </tr>\n",
              "  </thead>\n",
              "  <tbody>\n",
              "    <tr>\n",
              "      <th>0</th>\n",
              "      <td>596.100853</td>\n",
              "      <td>-229.436683</td>\n",
              "      <td>7925.800487</td>\n",
              "      <td>2999.411045</td>\n",
              "      <td>6.0</td>\n",
              "      <td>-227.614448</td>\n",
              "    </tr>\n",
              "    <tr>\n",
              "      <th>1</th>\n",
              "      <td>596.838217</td>\n",
              "      <td>-230.453708</td>\n",
              "      <td>8085.917724</td>\n",
              "      <td>2989.706617</td>\n",
              "      <td>6.0</td>\n",
              "      <td>-228.668636</td>\n",
              "    </tr>\n",
              "    <tr>\n",
              "      <th>2</th>\n",
              "      <td>596.468895</td>\n",
              "      <td>-229.545356</td>\n",
              "      <td>7902.175243</td>\n",
              "      <td>3006.331679</td>\n",
              "      <td>6.0</td>\n",
              "      <td>-227.755324</td>\n",
              "    </tr>\n",
              "    <tr>\n",
              "      <th>3</th>\n",
              "      <td>603.568271</td>\n",
              "      <td>-230.309438</td>\n",
              "      <td>7991.808959</td>\n",
              "      <td>3010.487486</td>\n",
              "      <td>6.0</td>\n",
              "      <td>-228.489113</td>\n",
              "    </tr>\n",
              "    <tr>\n",
              "      <th>4</th>\n",
              "      <td>595.407372</td>\n",
              "      <td>-229.767969</td>\n",
              "      <td>7871.560747</td>\n",
              "      <td>2986.665518</td>\n",
              "      <td>6.0</td>\n",
              "      <td>-227.971795</td>\n",
              "    </tr>\n",
              "  </tbody>\n",
              "</table>\n",
              "</div>"
            ],
            "text/plain": [
              "   Suction Pressure (psig)  ...  Discharge Temperature (F)\n",
              "0               596.100853  ...                -227.614448\n",
              "1               596.838217  ...                -228.668636\n",
              "2               596.468895  ...                -227.755324\n",
              "3               603.568271  ...                -228.489113\n",
              "4               595.407372  ...                -227.971795\n",
              "\n",
              "[5 rows x 6 columns]"
            ]
          },
          "metadata": {
            "tags": []
          },
          "execution_count": 14
        }
      ]
    },
    {
      "cell_type": "code",
      "metadata": {
        "id": "bf2zdrUOw1rP",
        "colab_type": "code",
        "colab": {}
      },
      "source": [
        "logistic_model1 = sm.OLS(y,X).fit()"
      ],
      "execution_count": 0,
      "outputs": []
    },
    {
      "cell_type": "code",
      "metadata": {
        "id": "zyTvhDmc08U8",
        "colab_type": "code",
        "outputId": "0f13adf2-e46f-4f53-c24d-ad40a239b762",
        "colab": {
          "base_uri": "https://localhost:8080/",
          "height": 562
        }
      },
      "source": [
        "logistic_model1.summary()"
      ],
      "execution_count": 0,
      "outputs": [
        {
          "output_type": "execute_result",
          "data": {
            "text/html": [
              "<table class=\"simpletable\">\n",
              "<caption>OLS Regression Results</caption>\n",
              "<tr>\n",
              "  <th>Dep. Variable:</th>    <td>Discharge Pressure (psig)</td> <th>  R-squared (uncentered):</th>       <td>   1.000</td>  \n",
              "</tr>\n",
              "<tr>\n",
              "  <th>Model:</th>                       <td>OLS</td>            <th>  Adj. R-squared (uncentered):</th>  <td>   1.000</td>  \n",
              "</tr>\n",
              "<tr>\n",
              "  <th>Method:</th>                 <td>Least Squares</td>       <th>  F-statistic:       </th>           <td>1.595e+08</td> \n",
              "</tr>\n",
              "<tr>\n",
              "  <th>Date:</th>                 <td>Wed, 29 Jan 2020</td>      <th>  Prob (F-statistic):</th>            <td>  0.00</td>   \n",
              "</tr>\n",
              "<tr>\n",
              "  <th>Time:</th>                     <td>15:10:55</td>          <th>  Log-Likelihood:    </th>          <td>-7.8658e+05</td>\n",
              "</tr>\n",
              "<tr>\n",
              "  <th>No. Observations:</th>          <td>296450</td>           <th>  AIC:               </th>           <td>1.573e+06</td> \n",
              "</tr>\n",
              "<tr>\n",
              "  <th>Df Residuals:</th>              <td>296444</td>           <th>  BIC:               </th>           <td>1.573e+06</td> \n",
              "</tr>\n",
              "<tr>\n",
              "  <th>Df Model:</th>                  <td>     6</td>           <th>                     </th>               <td> </td>     \n",
              "</tr>\n",
              "<tr>\n",
              "  <th>Covariance Type:</th>          <td>nonrobust</td>         <th>                     </th>               <td> </td>     \n",
              "</tr>\n",
              "</table>\n",
              "<table class=\"simpletable\">\n",
              "<tr>\n",
              "               <td></td>                 <th>coef</th>     <th>std err</th>      <th>t</th>      <th>P>|t|</th>  <th>[0.025</th>    <th>0.975]</th>  \n",
              "</tr>\n",
              "<tr>\n",
              "  <th>Suction Pressure (psig)</th>    <td>    1.0826</td> <td>    0.001</td> <td> 2041.842</td> <td> 0.000</td> <td>    1.082</td> <td>    1.084</td>\n",
              "</tr>\n",
              "<tr>\n",
              "  <th>Suction Temperature (F)</th>    <td>  -94.7283</td> <td>    0.403</td> <td> -235.068</td> <td> 0.000</td> <td>  -95.518</td> <td>  -93.939</td>\n",
              "</tr>\n",
              "<tr>\n",
              "  <th>Total Flow (gpm)</th>           <td>   -0.0744</td> <td> 4.87e-05</td> <td>-1529.430</td> <td> 0.000</td> <td>   -0.075</td> <td>   -0.074</td>\n",
              "</tr>\n",
              "<tr>\n",
              "  <th>Speed (rpm)</th>                <td>   -0.0791</td> <td>    0.000</td> <td> -493.908</td> <td> 0.000</td> <td>   -0.079</td> <td>   -0.079</td>\n",
              "</tr>\n",
              "<tr>\n",
              "  <th>By-pass Valve Position (%)</th> <td>    5.6253</td> <td>    0.003</td> <td> 1751.466</td> <td> 0.000</td> <td>    5.619</td> <td>    5.632</td>\n",
              "</tr>\n",
              "<tr>\n",
              "  <th>Discharge Temperature (F)</th>  <td>   93.8398</td> <td>    0.406</td> <td>  231.178</td> <td> 0.000</td> <td>   93.044</td> <td>   94.635</td>\n",
              "</tr>\n",
              "</table>\n",
              "<table class=\"simpletable\">\n",
              "<tr>\n",
              "  <th>Omnibus:</th>       <td>6971.612</td> <th>  Durbin-Watson:     </th> <td>   0.688</td> \n",
              "</tr>\n",
              "<tr>\n",
              "  <th>Prob(Omnibus):</th>  <td> 0.000</td>  <th>  Jarque-Bera (JB):  </th> <td>10311.443</td>\n",
              "</tr>\n",
              "<tr>\n",
              "  <th>Skew:</th>           <td>-0.256</td>  <th>  Prob(JB):          </th> <td>    0.00</td> \n",
              "</tr>\n",
              "<tr>\n",
              "  <th>Kurtosis:</th>       <td> 3.756</td>  <th>  Cond. No.          </th> <td>7.86e+05</td> \n",
              "</tr>\n",
              "</table><br/><br/>Warnings:<br/>[1] Standard Errors assume that the covariance matrix of the errors is correctly specified.<br/>[2] The condition number is large, 7.86e+05. This might indicate that there are<br/>strong multicollinearity or other numerical problems."
            ],
            "text/plain": [
              "<class 'statsmodels.iolib.summary.Summary'>\n",
              "\"\"\"\n",
              "                                    OLS Regression Results                                    \n",
              "==============================================================================================\n",
              "Dep. Variable:     Discharge Pressure (psig)   R-squared (uncentered):                   1.000\n",
              "Model:                                   OLS   Adj. R-squared (uncentered):              1.000\n",
              "Method:                        Least Squares   F-statistic:                          1.595e+08\n",
              "Date:                       Wed, 29 Jan 2020   Prob (F-statistic):                        0.00\n",
              "Time:                               15:10:55   Log-Likelihood:                     -7.8658e+05\n",
              "No. Observations:                     296450   AIC:                                  1.573e+06\n",
              "Df Residuals:                         296444   BIC:                                  1.573e+06\n",
              "Df Model:                                  6                                                  \n",
              "Covariance Type:                   nonrobust                                                  \n",
              "==============================================================================================\n",
              "                                 coef    std err          t      P>|t|      [0.025      0.975]\n",
              "----------------------------------------------------------------------------------------------\n",
              "Suction Pressure (psig)        1.0826      0.001   2041.842      0.000       1.082       1.084\n",
              "Suction Temperature (F)      -94.7283      0.403   -235.068      0.000     -95.518     -93.939\n",
              "Total Flow (gpm)              -0.0744   4.87e-05  -1529.430      0.000      -0.075      -0.074\n",
              "Speed (rpm)                   -0.0791      0.000   -493.908      0.000      -0.079      -0.079\n",
              "By-pass Valve Position (%)     5.6253      0.003   1751.466      0.000       5.619       5.632\n",
              "Discharge Temperature (F)     93.8398      0.406    231.178      0.000      93.044      94.635\n",
              "==============================================================================\n",
              "Omnibus:                     6971.612   Durbin-Watson:                   0.688\n",
              "Prob(Omnibus):                  0.000   Jarque-Bera (JB):            10311.443\n",
              "Skew:                          -0.256   Prob(JB):                         0.00\n",
              "Kurtosis:                       3.756   Cond. No.                     7.86e+05\n",
              "==============================================================================\n",
              "\n",
              "Warnings:\n",
              "[1] Standard Errors assume that the covariance matrix of the errors is correctly specified.\n",
              "[2] The condition number is large, 7.86e+05. This might indicate that there are\n",
              "strong multicollinearity or other numerical problems.\n",
              "\"\"\""
            ]
          },
          "metadata": {
            "tags": []
          },
          "execution_count": 16
        }
      ]
    },
    {
      "cell_type": "code",
      "metadata": {
        "id": "O13gHgxZ5YEP",
        "colab_type": "code",
        "colab": {}
      },
      "source": [
        "from sklearn.linear_model import LinearRegression"
      ],
      "execution_count": 0,
      "outputs": []
    },
    {
      "cell_type": "code",
      "metadata": {
        "id": "CbaHGJ_a6mH1",
        "colab_type": "code",
        "colab": {}
      },
      "source": [
        "lr = LinearRegression()"
      ],
      "execution_count": 0,
      "outputs": []
    },
    {
      "cell_type": "code",
      "metadata": {
        "id": "mRReU3wQ6p35",
        "colab_type": "code",
        "colab": {}
      },
      "source": [
        "model = lr.fit(X_train,y_train)"
      ],
      "execution_count": 0,
      "outputs": []
    },
    {
      "cell_type": "code",
      "metadata": {
        "id": "9muQIonr7wF4",
        "colab_type": "code",
        "colab": {}
      },
      "source": [
        "predictions = model.predict(X_test)"
      ],
      "execution_count": 0,
      "outputs": []
    },
    {
      "cell_type": "code",
      "metadata": {
        "id": "ouWh4rDw70M4",
        "colab_type": "code",
        "colab": {}
      },
      "source": [
        "from sklearn.metrics import mean_squared_error"
      ],
      "execution_count": 0,
      "outputs": []
    },
    {
      "cell_type": "code",
      "metadata": {
        "id": "GBgTqTmR76yB",
        "colab_type": "code",
        "outputId": "4bfa9d8d-0d97-4ec4-c759-27ed1f1e0581",
        "colab": {
          "base_uri": "https://localhost:8080/",
          "height": 34
        }
      },
      "source": [
        "np.sqrt(mean_squared_error(y_test,predictions))"
      ],
      "execution_count": 0,
      "outputs": [
        {
          "output_type": "execute_result",
          "data": {
            "text/plain": [
              "2.4603373409150495"
            ]
          },
          "metadata": {
            "tags": []
          },
          "execution_count": 24
        }
      ]
    },
    {
      "cell_type": "code",
      "metadata": {
        "id": "8Geu0R609NH0",
        "colab_type": "code",
        "colab": {}
      },
      "source": [
        "plt.rcParams['agg.path.chunksize'] = 10000"
      ],
      "execution_count": 0,
      "outputs": []
    },
    {
      "cell_type": "code",
      "metadata": {
        "id": "2QLGQ_c99W7H",
        "colab_type": "code",
        "outputId": "00cebb8f-e68b-4a43-d860-f84b4867ecdf",
        "colab": {
          "base_uri": "https://localhost:8080/",
          "height": 204
        }
      },
      "source": [
        "print(y_test[:5])\n",
        "print(predictions[:5])"
      ],
      "execution_count": 0,
      "outputs": [
        {
          "output_type": "stream",
          "text": [
            "        Discharge Pressure (psig)\n",
            "278684                 230.165511\n",
            "166020                 206.571681\n",
            "207547                 142.088463\n",
            "121869                 227.972975\n",
            "176158                 127.503853\n",
            "[[229.59742537]\n",
            " [205.53416778]\n",
            " [143.6552871 ]\n",
            " [226.86231946]\n",
            " [129.1553037 ]]\n"
          ],
          "name": "stdout"
        }
      ]
    },
    {
      "cell_type": "code",
      "metadata": {
        "id": "yoUwXDxF8H8z",
        "colab_type": "code",
        "outputId": "b2169ea0-3911-498b-c340-cfe72545eced",
        "colab": {
          "base_uri": "https://localhost:8080/",
          "height": 533
        }
      },
      "source": [
        "plt.figure(figsize=(10,8))\n",
        "plt.scatter(predictions,y_test)\n",
        "plt.title(\"Actual VS Pred Value\")\n",
        "plt.legend(loc=\"best\")"
      ],
      "execution_count": 0,
      "outputs": [
        {
          "output_type": "stream",
          "text": [
            "No handles with labels found to put in legend.\n"
          ],
          "name": "stderr"
        },
        {
          "output_type": "execute_result",
          "data": {
            "text/plain": [
              "<matplotlib.legend.Legend at 0x7f3c73e78ac8>"
            ]
          },
          "metadata": {
            "tags": []
          },
          "execution_count": 27
        },
        {
          "output_type": "display_data",
          "data": {
            "image/png": "[encoded data removed]",
            "text/plain": [
              "<Figure size 720x576 with 1 Axes>"
            ]
          },
          "metadata": {
            "tags": []
          }
        }
      ]
    },
    {
      "cell_type": "code",
      "metadata": {
        "id": "ocdczmki8owY",
        "colab_type": "code",
        "outputId": "8941e897-0a0c-41ca-a508-8d6bdbf6f8bd",
        "colab": {
          "base_uri": "https://localhost:8080/",
          "height": 235
        }
      },
      "source": [
        "from statsmodels.stats.outliers_influence import variance_inflation_factor\n",
        "\n",
        "vif1 = pd.DataFrame()\n",
        "vif1[\"VIF Factor\"] = [variance_inflation_factor(X.values, i) for i in range(X.shape[1])]\n",
        "vif1[\"features\"] = X.columns\n",
        "vif1"
      ],
      "execution_count": 0,
      "outputs": [
        {
          "output_type": "execute_result",
          "data": {
            "text/html": [
              "<div>\n",
              "<style scoped>\n",
              "    .dataframe tbody tr th:only-of-type {\n",
              "        vertical-align: middle;\n",
              "    }\n",
              "\n",
              "    .dataframe tbody tr th {\n",
              "        vertical-align: top;\n",
              "    }\n",
              "\n",
              "    .dataframe thead th {\n",
              "        text-align: right;\n",
              "    }\n",
              "</style>\n",
              "<table border=\"1\" class=\"dataframe\">\n",
              "  <thead>\n",
              "    <tr style=\"text-align: right;\">\n",
              "      <th></th>\n",
              "      <th>VIF Factor</th>\n",
              "      <th>features</th>\n",
              "    </tr>\n",
              "  </thead>\n",
              "  <tbody>\n",
              "    <tr>\n",
              "      <th>0</th>\n",
              "      <td>2.465169e+03</td>\n",
              "      <td>Suction Pressure (psig)</td>\n",
              "    </tr>\n",
              "    <tr>\n",
              "      <th>1</th>\n",
              "      <td>2.186707e+08</td>\n",
              "      <td>Suction Temperature (F)</td>\n",
              "    </tr>\n",
              "    <tr>\n",
              "      <th>2</th>\n",
              "      <td>3.930135e+03</td>\n",
              "      <td>Total Flow (gpm)</td>\n",
              "    </tr>\n",
              "    <tr>\n",
              "      <th>3</th>\n",
              "      <td>5.631739e+03</td>\n",
              "      <td>Speed (rpm)</td>\n",
              "    </tr>\n",
              "    <tr>\n",
              "      <th>4</th>\n",
              "      <td>2.645556e+00</td>\n",
              "      <td>By-pass Valve Position (%)</td>\n",
              "    </tr>\n",
              "    <tr>\n",
              "      <th>5</th>\n",
              "      <td>2.184346e+08</td>\n",
              "      <td>Discharge Temperature (F)</td>\n",
              "    </tr>\n",
              "  </tbody>\n",
              "</table>\n",
              "</div>"
            ],
            "text/plain": [
              "     VIF Factor                    features\n",
              "0  2.465169e+03     Suction Pressure (psig)\n",
              "1  2.186707e+08     Suction Temperature (F)\n",
              "2  3.930135e+03            Total Flow (gpm)\n",
              "3  5.631739e+03                 Speed (rpm)\n",
              "4  2.645556e+00  By-pass Valve Position (%)\n",
              "5  2.184346e+08   Discharge Temperature (F)"
            ]
          },
          "metadata": {
            "tags": []
          },
          "execution_count": 28
        }
      ]
    },
    {
      "cell_type": "markdown",
      "metadata": {
        "id": "r6jFBBwezHPL",
        "colab_type": "text"
      },
      "source": [
        "Minimum value for VIF is 1 and any value more than 10 is a result of colinearity. Still we will take out Speed(rpm) as it has highest value "
      ]
    },
    {
      "cell_type": "code",
      "metadata": {
        "id": "WNhTaKx_ySa8",
        "colab_type": "code",
        "colab": {}
      },
      "source": [
        "X1 = X.drop('Speed (rpm)',axis=1)\n",
        "\n",
        "logistic_model2 = sm.OLS(y,X1).fit()"
      ],
      "execution_count": 0,
      "outputs": []
    },
    {
      "cell_type": "code",
      "metadata": {
        "id": "KqLlsvCM2ZMI",
        "colab_type": "code",
        "outputId": "288e8424-291e-4e53-f300-970ae51ef8ed",
        "colab": {
          "base_uri": "https://localhost:8080/",
          "height": 541
        }
      },
      "source": [
        "logistic_model2.summary()"
      ],
      "execution_count": 0,
      "outputs": [
        {
          "output_type": "execute_result",
          "data": {
            "text/html": [
              "<table class=\"simpletable\">\n",
              "<caption>OLS Regression Results</caption>\n",
              "<tr>\n",
              "  <th>Dep. Variable:</th>    <td>Discharge Pressure (psig)</td> <th>  R-squared (uncentered):</th>       <td>   0.999</td>  \n",
              "</tr>\n",
              "<tr>\n",
              "  <th>Model:</th>                       <td>OLS</td>            <th>  Adj. R-squared (uncentered):</th>  <td>   0.999</td>  \n",
              "</tr>\n",
              "<tr>\n",
              "  <th>Method:</th>                 <td>Least Squares</td>       <th>  F-statistic:       </th>           <td>1.050e+08</td> \n",
              "</tr>\n",
              "<tr>\n",
              "  <th>Date:</th>                 <td>Wed, 29 Jan 2020</td>      <th>  Prob (F-statistic):</th>            <td>  0.00</td>   \n",
              "</tr>\n",
              "<tr>\n",
              "  <th>Time:</th>                     <td>15:11:32</td>          <th>  Log-Likelihood:    </th>          <td>-8.7558e+05</td>\n",
              "</tr>\n",
              "<tr>\n",
              "  <th>No. Observations:</th>          <td>296450</td>           <th>  AIC:               </th>           <td>1.751e+06</td> \n",
              "</tr>\n",
              "<tr>\n",
              "  <th>Df Residuals:</th>              <td>296445</td>           <th>  BIC:               </th>           <td>1.751e+06</td> \n",
              "</tr>\n",
              "<tr>\n",
              "  <th>Df Model:</th>                  <td>     5</td>           <th>                     </th>               <td> </td>     \n",
              "</tr>\n",
              "<tr>\n",
              "  <th>Covariance Type:</th>          <td>nonrobust</td>         <th>                     </th>               <td> </td>     \n",
              "</tr>\n",
              "</table>\n",
              "<table class=\"simpletable\">\n",
              "<tr>\n",
              "               <td></td>                 <th>coef</th>     <th>std err</th>      <th>t</th>      <th>P>|t|</th>  <th>[0.025</th>    <th>0.975]</th>  \n",
              "</tr>\n",
              "<tr>\n",
              "  <th>Suction Pressure (psig)</th>    <td>    0.9855</td> <td>    0.001</td> <td> 1482.342</td> <td> 0.000</td> <td>    0.984</td> <td>    0.987</td>\n",
              "</tr>\n",
              "<tr>\n",
              "  <th>Suction Temperature (F)</th>    <td> -123.4144</td> <td>    0.538</td> <td> -229.221</td> <td> 0.000</td> <td> -124.470</td> <td> -122.359</td>\n",
              "</tr>\n",
              "<tr>\n",
              "  <th>Total Flow (gpm)</th>           <td>   -0.0789</td> <td> 6.46e-05</td> <td>-1222.145</td> <td> 0.000</td> <td>   -0.079</td> <td>   -0.079</td>\n",
              "</tr>\n",
              "<tr>\n",
              "  <th>By-pass Valve Position (%)</th> <td>    4.7933</td> <td>    0.004</td> <td> 1298.272</td> <td> 0.000</td> <td>    4.786</td> <td>    4.801</td>\n",
              "</tr>\n",
              "<tr>\n",
              "  <th>Discharge Temperature (F)</th>  <td>  123.3537</td> <td>    0.542</td> <td>  227.556</td> <td> 0.000</td> <td>  122.291</td> <td>  124.416</td>\n",
              "</tr>\n",
              "</table>\n",
              "<table class=\"simpletable\">\n",
              "<tr>\n",
              "  <th>Omnibus:</th>       <td>4004.307</td> <th>  Durbin-Watson:     </th> <td>   0.570</td>\n",
              "</tr>\n",
              "<tr>\n",
              "  <th>Prob(Omnibus):</th>  <td> 0.000</td>  <th>  Jarque-Bera (JB):  </th> <td>4004.914</td>\n",
              "</tr>\n",
              "<tr>\n",
              "  <th>Skew:</th>           <td> 0.267</td>  <th>  Prob(JB):          </th> <td>    0.00</td>\n",
              "</tr>\n",
              "<tr>\n",
              "  <th>Kurtosis:</th>       <td> 2.800</td>  <th>  Cond. No.          </th> <td>7.31e+05</td>\n",
              "</tr>\n",
              "</table><br/><br/>Warnings:<br/>[1] Standard Errors assume that the covariance matrix of the errors is correctly specified.<br/>[2] The condition number is large, 7.31e+05. This might indicate that there are<br/>strong multicollinearity or other numerical problems."
            ],
            "text/plain": [
              "<class 'statsmodels.iolib.summary.Summary'>\n",
              "\"\"\"\n",
              "                                    OLS Regression Results                                    \n",
              "==============================================================================================\n",
              "Dep. Variable:     Discharge Pressure (psig)   R-squared (uncentered):                   0.999\n",
              "Model:                                   OLS   Adj. R-squared (uncentered):              0.999\n",
              "Method:                        Least Squares   F-statistic:                          1.050e+08\n",
              "Date:                       Wed, 29 Jan 2020   Prob (F-statistic):                        0.00\n",
              "Time:                               15:11:32   Log-Likelihood:                     -8.7558e+05\n",
              "No. Observations:                     296450   AIC:                                  1.751e+06\n",
              "Df Residuals:                         296445   BIC:                                  1.751e+06\n",
              "Df Model:                                  5                                                  \n",
              "Covariance Type:                   nonrobust                                                  \n",
              "==============================================================================================\n",
              "                                 coef    std err          t      P>|t|      [0.025      0.975]\n",
              "----------------------------------------------------------------------------------------------\n",
              "Suction Pressure (psig)        0.9855      0.001   1482.342      0.000       0.984       0.987\n",
              "Suction Temperature (F)     -123.4144      0.538   -229.221      0.000    -124.470    -122.359\n",
              "Total Flow (gpm)              -0.0789   6.46e-05  -1222.145      0.000      -0.079      -0.079\n",
              "By-pass Valve Position (%)     4.7933      0.004   1298.272      0.000       4.786       4.801\n",
              "Discharge Temperature (F)    123.3537      0.542    227.556      0.000     122.291     124.416\n",
              "==============================================================================\n",
              "Omnibus:                     4004.307   Durbin-Watson:                   0.570\n",
              "Prob(Omnibus):                  0.000   Jarque-Bera (JB):             4004.914\n",
              "Skew:                           0.267   Prob(JB):                         0.00\n",
              "Kurtosis:                       2.800   Cond. No.                     7.31e+05\n",
              "==============================================================================\n",
              "\n",
              "Warnings:\n",
              "[1] Standard Errors assume that the covariance matrix of the errors is correctly specified.\n",
              "[2] The condition number is large, 7.31e+05. This might indicate that there are\n",
              "strong multicollinearity or other numerical problems.\n",
              "\"\"\""
            ]
          },
          "metadata": {
            "tags": []
          },
          "execution_count": 30
        }
      ]
    },
    {
      "cell_type": "code",
      "metadata": {
        "id": "fvJW9VcV2bbj",
        "colab_type": "code",
        "outputId": "67052f06-f0b4-47a6-b4c6-42c2c1add2a6",
        "colab": {
          "base_uri": "https://localhost:8080/",
          "height": 34
        }
      },
      "source": [
        "X_train,X_test,y_train,y_test = train_test_split(X1,y,test_size=0.33,random_state=101)\n",
        "model = lr.fit(X_train,y_train)\n",
        "predictions = model.predict(X_test)\n",
        "np.sqrt(mean_squared_error(y_test,predictions))"
      ],
      "execution_count": 0,
      "outputs": [
        {
          "output_type": "execute_result",
          "data": {
            "text/plain": [
              "3.485003251457413"
            ]
          },
          "metadata": {
            "tags": []
          },
          "execution_count": 31
        }
      ]
    },
    {
      "cell_type": "code",
      "metadata": {
        "id": "c1nt0n7H5D3u",
        "colab_type": "code",
        "colab": {}
      },
      "source": [
        "# As the error rate increased so the finally all the variables would be taken. SO final model is \"model\""
      ],
      "execution_count": 0,
      "outputs": []
    }
  ]
}