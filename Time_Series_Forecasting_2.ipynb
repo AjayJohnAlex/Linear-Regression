{
  "nbformat": 4,
  "nbformat_minor": 0,
  "metadata": {
    "colab": {
      "name": "Time Series Forecasting 2.ipynb",
      "provenance": [],
      "authorship_tag": "ABX9TyNyye07JZfnjyTzopRHNZOz",
      "include_colab_link": true
    },
    "kernelspec": {
      "name": "python3",
      "display_name": "Python 3"
    }
  },
  "cells": [
    {
      "cell_type": "markdown",
      "metadata": {
        "id": "view-in-github",
        "colab_type": "text"
      },
      "source": [
        "<a href=\"https://colab.research.google.com/github/AjayJohnAlex/Linear-Regression/blob/master/Time_Series_Forecasting_2.ipynb\" target=\"_parent\"><img src=\"https://colab.research.google.com/assets/colab-badge.svg\" alt=\"Open In Colab\"/></a>"
      ]
    },
    {
      "cell_type": "code",
      "metadata": {
        "id": "URZF8v956c_b",
        "colab_type": "code",
        "colab": {}
      },
      "source": [
        "import pandas as pd\n",
        "import numpy as np\n",
        "import matplotlib.pyplot as plt\n",
        "import seaborn as sns\n",
        "%matplotlib inline"
      ],
      "execution_count": 0,
      "outputs": []
    },
    {
      "cell_type": "code",
      "metadata": {
        "id": "aTRCw5hE8YYn",
        "colab_type": "code",
        "colab": {
          "base_uri": "https://localhost:8080/",
          "height": 235
        },
        "outputId": "2dd5525d-2805-41f2-f301-287c41bfea5f"
      },
      "source": [
        "df = pd.read_csv('/content/Weather_data.csv')\n",
        "df['datetime_utc'] = pd.to_datetime(df['datetime_utc'],infer_datetime_format=True)\n",
        "df = df.set_index(['datetime_utc'])\n",
        "forecast = df.drop([' _conds', ' _dewptm', ' _fog', ' _hail', ' _heatindexm', ' _hum',\n",
        "       ' _precipm', ' _pressurem', ' _rain', ' _snow',' _thunder',\n",
        "       ' _tornado', ' _vism', ' _wdird', ' _wdire', ' _wgustm', ' _windchillm',\n",
        "       ' _wspdm'],axis=1)\n",
        "\n",
        "forecast.isna().sum()\n",
        "forecast = forecast.dropna()\n",
        "forecast.head()"
      ],
      "execution_count": 13,
      "outputs": [
        {
          "output_type": "execute_result",
          "data": {
            "text/html": [
              "<div>\n",
              "<style scoped>\n",
              "    .dataframe tbody tr th:only-of-type {\n",
              "        vertical-align: middle;\n",
              "    }\n",
              "\n",
              "    .dataframe tbody tr th {\n",
              "        vertical-align: top;\n",
              "    }\n",
              "\n",
              "    .dataframe thead th {\n",
              "        text-align: right;\n",
              "    }\n",
              "</style>\n",
              "<table border=\"1\" class=\"dataframe\">\n",
              "  <thead>\n",
              "    <tr style=\"text-align: right;\">\n",
              "      <th></th>\n",
              "      <th>_tempm</th>\n",
              "    </tr>\n",
              "    <tr>\n",
              "      <th>datetime_utc</th>\n",
              "      <th></th>\n",
              "    </tr>\n",
              "  </thead>\n",
              "  <tbody>\n",
              "    <tr>\n",
              "      <th>1996-11-01 11:00:00</th>\n",
              "      <td>30.0</td>\n",
              "    </tr>\n",
              "    <tr>\n",
              "      <th>1996-11-01 12:00:00</th>\n",
              "      <td>28.0</td>\n",
              "    </tr>\n",
              "    <tr>\n",
              "      <th>1996-11-01 13:00:00</th>\n",
              "      <td>24.0</td>\n",
              "    </tr>\n",
              "    <tr>\n",
              "      <th>1996-11-01 14:00:00</th>\n",
              "      <td>24.0</td>\n",
              "    </tr>\n",
              "    <tr>\n",
              "      <th>1996-11-01 16:00:00</th>\n",
              "      <td>23.0</td>\n",
              "    </tr>\n",
              "  </tbody>\n",
              "</table>\n",
              "</div>"
            ],
            "text/plain": [
              "                      _tempm\n",
              "datetime_utc                \n",
              "1996-11-01 11:00:00     30.0\n",
              "1996-11-01 12:00:00     28.0\n",
              "1996-11-01 13:00:00     24.0\n",
              "1996-11-01 14:00:00     24.0\n",
              "1996-11-01 16:00:00     23.0"
            ]
          },
          "metadata": {
            "tags": []
          },
          "execution_count": 13
        }
      ]
    },
    {
      "cell_type": "code",
      "metadata": {
        "id": "0J5ucv5q9Evk",
        "colab_type": "code",
        "colab": {}
      },
      "source": [
        "from sklearn.preprocessing import MinMaxScaler, Normalizer"
      ],
      "execution_count": 0,
      "outputs": []
    },
    {
      "cell_type": "code",
      "metadata": {
        "id": "uCUdVgfKBf-v",
        "colab_type": "code",
        "colab": {}
      },
      "source": [
        "scaler = MinMaxScaler()\n",
        "norm = Normalizer()"
      ],
      "execution_count": 0,
      "outputs": []
    },
    {
      "cell_type": "code",
      "metadata": {
        "id": "g-InkmqPCfDm",
        "colab_type": "code",
        "colab": {}
      },
      "source": [
        ""
      ],
      "execution_count": 0,
      "outputs": []
    },
    {
      "cell_type": "code",
      "metadata": {
        "id": "E8Oia-UGBssw",
        "colab_type": "code",
        "colab": {
          "base_uri": "https://localhost:8080/",
          "height": 34
        },
        "outputId": "173a4539-a62b-49f1-84d7-e5511a0399f0"
      },
      "source": [
        "X = scaler.fit_transform(forecast.values)\n",
        "X.shape"
      ],
      "execution_count": 16,
      "outputs": [
        {
          "output_type": "execute_result",
          "data": {
            "text/plain": [
              "(98244, 1)"
            ]
          },
          "metadata": {
            "tags": []
          },
          "execution_count": 16
        }
      ]
    },
    {
      "cell_type": "code",
      "metadata": {
        "id": "Dwqj7umxA8Oa",
        "colab_type": "code",
        "colab": {}
      },
      "source": [
        "train = X[0:round(len(X)*.8)]\n",
        "test = X[round(len(X)*.8):]"
      ],
      "execution_count": 0,
      "outputs": []
    },
    {
      "cell_type": "code",
      "metadata": {
        "id": "UojmDgrHCuRw",
        "colab_type": "code",
        "colab": {}
      },
      "source": [
        "from statsmodels.tsa.arima_model import ARIMA\n",
        "from sklearn.metrics import mean_squared_error\n"
      ],
      "execution_count": 0,
      "outputs": []
    },
    {
      "cell_type": "code",
      "metadata": {
        "id": "5A1VHygzEhwD",
        "colab_type": "code",
        "colab": {}
      },
      "source": [
        "weather_model = ARIMA(train,order=(1,0,4)).fit()"
      ],
      "execution_count": 0,
      "outputs": []
    },
    {
      "cell_type": "code",
      "metadata": {
        "id": "zE2tQuMcHv55",
        "colab_type": "code",
        "colab": {
          "base_uri": "https://localhost:8080/"
        },
        "outputId": "ef61a742-5a2b-47a3-8319-d17019565f55"
      },
      "source": [
        "weather_model.summary()"
      ],
      "execution_count": 26,
      "outputs": [
        {
          "output_type": "execute_result",
          "data": {
            "text/html": [
              "<table class=\"simpletable\">\n",
              "<caption>ARMA Model Results</caption>\n",
              "<tr>\n",
              "  <th>Dep. Variable:</th>         <td>y</td>        <th>  No. Observations:  </th>    <td>78595</td>   \n",
              "</tr>\n",
              "<tr>\n",
              "  <th>Model:</th>            <td>ARMA(1, 4)</td>    <th>  Log Likelihood     </th> <td>180669.344</td> \n",
              "</tr>\n",
              "<tr>\n",
              "  <th>Method:</th>             <td>css-mle</td>     <th>  S.D. of innovations</th>    <td>0.024</td>   \n",
              "</tr>\n",
              "<tr>\n",
              "  <th>Date:</th>          <td>Wed, 29 Jan 2020</td> <th>  AIC                </th> <td>-361324.687</td>\n",
              "</tr>\n",
              "<tr>\n",
              "  <th>Time:</th>              <td>18:14:47</td>     <th>  BIC                </th> <td>-361259.783</td>\n",
              "</tr>\n",
              "<tr>\n",
              "  <th>Sample:</th>                <td>0</td>        <th>  HQIC               </th> <td>-361304.775</td>\n",
              "</tr>\n",
              "<tr>\n",
              "  <th></th>                       <td> </td>        <th>                     </th>      <td> </td>     \n",
              "</tr>\n",
              "</table>\n",
              "<table class=\"simpletable\">\n",
              "<tr>\n",
              "     <td></td>        <th>coef</th>     <th>std err</th>      <th>z</th>      <th>P>|z|</th>  <th>[0.025</th>    <th>0.975]</th>  \n",
              "</tr>\n",
              "<tr>\n",
              "  <th>const</th>   <td>    0.2736</td> <td>    0.014</td> <td>   20.145</td> <td> 0.000</td> <td>    0.247</td> <td>    0.300</td>\n",
              "</tr>\n",
              "<tr>\n",
              "  <th>ar.L1.y</th> <td>    0.9990</td> <td>    0.000</td> <td> 5833.844</td> <td> 0.000</td> <td>    0.999</td> <td>    0.999</td>\n",
              "</tr>\n",
              "<tr>\n",
              "  <th>ma.L1.y</th> <td>    0.1800</td> <td>    0.003</td> <td>   52.898</td> <td> 0.000</td> <td>    0.173</td> <td>    0.187</td>\n",
              "</tr>\n",
              "<tr>\n",
              "  <th>ma.L2.y</th> <td>   -0.2505</td> <td>    0.003</td> <td>  -78.713</td> <td> 0.000</td> <td>   -0.257</td> <td>   -0.244</td>\n",
              "</tr>\n",
              "<tr>\n",
              "  <th>ma.L3.y</th> <td>   -0.4876</td> <td>    0.003</td> <td> -140.771</td> <td> 0.000</td> <td>   -0.494</td> <td>   -0.481</td>\n",
              "</tr>\n",
              "<tr>\n",
              "  <th>ma.L4.y</th> <td>   -0.2909</td> <td>    0.003</td> <td>  -92.368</td> <td> 0.000</td> <td>   -0.297</td> <td>   -0.285</td>\n",
              "</tr>\n",
              "</table>\n",
              "<table class=\"simpletable\">\n",
              "<caption>Roots</caption>\n",
              "<tr>\n",
              "    <td></td>   <th>            Real</th>  <th>         Imaginary</th> <th>         Modulus</th>  <th>        Frequency</th>\n",
              "</tr>\n",
              "<tr>\n",
              "  <th>AR.1</th> <td>           1.0010</td> <td>          +0.0000j</td> <td>           1.0010</td> <td>           0.0000</td>\n",
              "</tr>\n",
              "<tr>\n",
              "  <th>MA.1</th> <td>           1.0484</td> <td>          -0.0000j</td> <td>           1.0484</td> <td>          -0.0000</td>\n",
              "</tr>\n",
              "<tr>\n",
              "  <th>MA.2</th> <td>          -0.5253</td> <td>          -1.2973j</td> <td>           1.3996</td> <td>          -0.3112</td>\n",
              "</tr>\n",
              "<tr>\n",
              "  <th>MA.3</th> <td>          -0.5253</td> <td>          +1.2973j</td> <td>           1.3996</td> <td>           0.3112</td>\n",
              "</tr>\n",
              "<tr>\n",
              "  <th>MA.4</th> <td>          -1.6738</td> <td>          -0.0000j</td> <td>           1.6738</td> <td>          -0.5000</td>\n",
              "</tr>\n",
              "</table>"
            ],
            "text/plain": [
              "<class 'statsmodels.iolib.summary.Summary'>\n",
              "\"\"\"\n",
              "                              ARMA Model Results                              \n",
              "==============================================================================\n",
              "Dep. Variable:                      y   No. Observations:                78595\n",
              "Model:                     ARMA(1, 4)   Log Likelihood              180669.344\n",
              "Method:                       css-mle   S.D. of innovations              0.024\n",
              "Date:                Wed, 29 Jan 2020   AIC                        -361324.687\n",
              "Time:                        18:14:47   BIC                        -361259.783\n",
              "Sample:                             0   HQIC                       -361304.775\n",
              "                                                                              \n",
              "==============================================================================\n",
              "                 coef    std err          z      P>|z|      [0.025      0.975]\n",
              "------------------------------------------------------------------------------\n",
              "const          0.2736      0.014     20.145      0.000       0.247       0.300\n",
              "ar.L1.y        0.9990      0.000   5833.844      0.000       0.999       0.999\n",
              "ma.L1.y        0.1800      0.003     52.898      0.000       0.173       0.187\n",
              "ma.L2.y       -0.2505      0.003    -78.713      0.000      -0.257      -0.244\n",
              "ma.L3.y       -0.4876      0.003   -140.771      0.000      -0.494      -0.481\n",
              "ma.L4.y       -0.2909      0.003    -92.368      0.000      -0.297      -0.285\n",
              "                                    Roots                                    \n",
              "=============================================================================\n",
              "                  Real          Imaginary           Modulus         Frequency\n",
              "-----------------------------------------------------------------------------\n",
              "AR.1            1.0010           +0.0000j            1.0010            0.0000\n",
              "MA.1            1.0484           -0.0000j            1.0484           -0.0000\n",
              "MA.2           -0.5253           -1.2973j            1.3996           -0.3112\n",
              "MA.3           -0.5253           +1.2973j            1.3996            0.3112\n",
              "MA.4           -1.6738           -0.0000j            1.6738           -0.5000\n",
              "-----------------------------------------------------------------------------\n",
              "\"\"\""
            ]
          },
          "metadata": {
            "tags": []
          },
          "execution_count": 26
        }
      ]
    },
    {
      "cell_type": "code",
      "metadata": {
        "id": "9vXcC8vlH3EC",
        "colab_type": "code",
        "colab": {}
      },
      "source": [
        "expected_forecast = weather_model.forecast(steps=len(test))[0]\n"
      ],
      "execution_count": 0,
      "outputs": []
    },
    {
      "cell_type": "code",
      "metadata": {
        "id": "S7vKebDWGaHD",
        "colab_type": "code",
        "colab": {
          "base_uri": "https://localhost:8080/",
          "height": 34
        },
        "outputId": "866e18ce-7378-4ae2-f4e3-efd64fde1a1f"
      },
      "source": [
        "np.sqrt(mean_squared_error(expected_forecast,test))"
      ],
      "execution_count": 28,
      "outputs": [
        {
          "output_type": "execute_result",
          "data": {
            "text/plain": [
              "0.09232650864362112"
            ]
          },
          "metadata": {
            "tags": []
          },
          "execution_count": 28
        }
      ]
    },
    {
      "cell_type": "code",
      "metadata": {
        "id": "gehwakMZH4VM",
        "colab_type": "code",
        "colab": {}
      },
      "source": [
        "expected_forecast = expected_forecast.reshape(len(expected_forecast),1)\n",
        "expected_forecast = scaler.inverse_transform(expected_forecast)"
      ],
      "execution_count": 0,
      "outputs": []
    },
    {
      "cell_type": "code",
      "metadata": {
        "id": "DE_ZAbTLnMfY",
        "colab_type": "code",
        "colab": {
          "base_uri": "https://localhost:8080/",
          "height": 34
        },
        "outputId": "7d776898-ae30-4c47-d22d-bfc6d910737c"
      },
      "source": [
        "np.sqrt(mean_squared_error(expected_forecast,test))"
      ],
      "execution_count": 31,
      "outputs": [
        {
          "output_type": "execute_result",
          "data": {
            "text/plain": [
              "24.618156240903176"
            ]
          },
          "metadata": {
            "tags": []
          },
          "execution_count": 31
        }
      ]
    },
    {
      "cell_type": "markdown",
      "metadata": {
        "id": "6IzKPFP0noK4",
        "colab_type": "text"
      },
      "source": [
        "It got worser now,So standarisation didn't help."
      ]
    },
    {
      "cell_type": "code",
      "metadata": {
        "id": "ejNbRA-wnk5G",
        "colab_type": "code",
        "colab": {}
      },
      "source": [
        ""
      ],
      "execution_count": 0,
      "outputs": []
    }
  ]
}