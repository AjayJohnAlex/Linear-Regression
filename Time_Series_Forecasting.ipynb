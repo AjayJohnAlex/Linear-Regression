{
  "nbformat": 4,
  "nbformat_minor": 0,
  "metadata": {
    "colab": {
      "name": "Time Series Forecasting.ipynb",
      "provenance": [],
      "authorship_tag": "ABX9TyPaRGYL0qgPmM2sYyEFOevX"
    },
    "kernelspec": {
      "name": "python3",
      "display_name": "Python 3"
    },
    "accelerator": "GPU"
  },
  "cells": [
    {
      "cell_type": "code",
      "metadata": {
        "id": "SRqmQLmCgRJL",
        "colab_type": "code",
        "colab": {
          "base_uri": "https://localhost:8080/",
          "height": 34
        },
        "outputId": "5b9ce5a4-7460-4666-bf1e-935da070d7fc"
      },
      "source": [
        "print(\"hello\")"
      ],
      "execution_count": 1,
      "outputs": [
        {
          "output_type": "stream",
          "text": [
            "hello\n"
          ],
          "name": "stdout"
        }
      ]
    },
    {
      "cell_type": "code",
      "metadata": {
        "id": "usa5dh9yg0hK",
        "colab_type": "code",
        "colab": {}
      },
      "source": [
        "import pandas as pd \n",
        "import numpy as np\n",
        "import matplotlib.pyplot as plt\n",
        "import seaborn as sns \n",
        "%matplotlib inline"
      ],
      "execution_count": 0,
      "outputs": []
    },
    {
      "cell_type": "code",
      "metadata": {
        "id": "Pa6w2La8hSzI",
        "colab_type": "code",
        "colab": {
          "base_uri": "https://localhost:8080/",
          "height": 224
        },
        "outputId": "70d7e483-bf49-41ed-f1db-eb94f6f445f3"
      },
      "source": [
        "df = pd.read_csv('/content/Weather_data.csv')\n",
        "df.head()"
      ],
      "execution_count": 3,
      "outputs": [
        {
          "output_type": "execute_result",
          "data": {
            "text/html": [
              "<div>\n",
              "<style scoped>\n",
              "    .dataframe tbody tr th:only-of-type {\n",
              "        vertical-align: middle;\n",
              "    }\n",
              "\n",
              "    .dataframe tbody tr th {\n",
              "        vertical-align: top;\n",
              "    }\n",
              "\n",
              "    .dataframe thead th {\n",
              "        text-align: right;\n",
              "    }\n",
              "</style>\n",
              "<table border=\"1\" class=\"dataframe\">\n",
              "  <thead>\n",
              "    <tr style=\"text-align: right;\">\n",
              "      <th></th>\n",
              "      <th>datetime_utc</th>\n",
              "      <th>_conds</th>\n",
              "      <th>_dewptm</th>\n",
              "      <th>_fog</th>\n",
              "      <th>_hail</th>\n",
              "      <th>_heatindexm</th>\n",
              "      <th>_hum</th>\n",
              "      <th>_precipm</th>\n",
              "      <th>_pressurem</th>\n",
              "      <th>_rain</th>\n",
              "      <th>_snow</th>\n",
              "      <th>_tempm</th>\n",
              "      <th>_thunder</th>\n",
              "      <th>_tornado</th>\n",
              "      <th>_vism</th>\n",
              "      <th>_wdird</th>\n",
              "      <th>_wdire</th>\n",
              "      <th>_wgustm</th>\n",
              "      <th>_windchillm</th>\n",
              "      <th>_wspdm</th>\n",
              "    </tr>\n",
              "  </thead>\n",
              "  <tbody>\n",
              "    <tr>\n",
              "      <th>0</th>\n",
              "      <td>19961101-11:00</td>\n",
              "      <td>Smoke</td>\n",
              "      <td>9.0</td>\n",
              "      <td>0</td>\n",
              "      <td>0</td>\n",
              "      <td>NaN</td>\n",
              "      <td>27.0</td>\n",
              "      <td>NaN</td>\n",
              "      <td>1010.0</td>\n",
              "      <td>0</td>\n",
              "      <td>0</td>\n",
              "      <td>30.0</td>\n",
              "      <td>0</td>\n",
              "      <td>0</td>\n",
              "      <td>5.0</td>\n",
              "      <td>280.0</td>\n",
              "      <td>West</td>\n",
              "      <td>NaN</td>\n",
              "      <td>NaN</td>\n",
              "      <td>7.4</td>\n",
              "    </tr>\n",
              "    <tr>\n",
              "      <th>1</th>\n",
              "      <td>19961101-12:00</td>\n",
              "      <td>Smoke</td>\n",
              "      <td>10.0</td>\n",
              "      <td>0</td>\n",
              "      <td>0</td>\n",
              "      <td>NaN</td>\n",
              "      <td>32.0</td>\n",
              "      <td>NaN</td>\n",
              "      <td>-9999.0</td>\n",
              "      <td>0</td>\n",
              "      <td>0</td>\n",
              "      <td>28.0</td>\n",
              "      <td>0</td>\n",
              "      <td>0</td>\n",
              "      <td>NaN</td>\n",
              "      <td>0.0</td>\n",
              "      <td>North</td>\n",
              "      <td>NaN</td>\n",
              "      <td>NaN</td>\n",
              "      <td>NaN</td>\n",
              "    </tr>\n",
              "    <tr>\n",
              "      <th>2</th>\n",
              "      <td>19961101-13:00</td>\n",
              "      <td>Smoke</td>\n",
              "      <td>11.0</td>\n",
              "      <td>0</td>\n",
              "      <td>0</td>\n",
              "      <td>NaN</td>\n",
              "      <td>44.0</td>\n",
              "      <td>NaN</td>\n",
              "      <td>-9999.0</td>\n",
              "      <td>0</td>\n",
              "      <td>0</td>\n",
              "      <td>24.0</td>\n",
              "      <td>0</td>\n",
              "      <td>0</td>\n",
              "      <td>NaN</td>\n",
              "      <td>0.0</td>\n",
              "      <td>North</td>\n",
              "      <td>NaN</td>\n",
              "      <td>NaN</td>\n",
              "      <td>NaN</td>\n",
              "    </tr>\n",
              "    <tr>\n",
              "      <th>3</th>\n",
              "      <td>19961101-14:00</td>\n",
              "      <td>Smoke</td>\n",
              "      <td>10.0</td>\n",
              "      <td>0</td>\n",
              "      <td>0</td>\n",
              "      <td>NaN</td>\n",
              "      <td>41.0</td>\n",
              "      <td>NaN</td>\n",
              "      <td>1010.0</td>\n",
              "      <td>0</td>\n",
              "      <td>0</td>\n",
              "      <td>24.0</td>\n",
              "      <td>0</td>\n",
              "      <td>0</td>\n",
              "      <td>2.0</td>\n",
              "      <td>0.0</td>\n",
              "      <td>North</td>\n",
              "      <td>NaN</td>\n",
              "      <td>NaN</td>\n",
              "      <td>NaN</td>\n",
              "    </tr>\n",
              "    <tr>\n",
              "      <th>4</th>\n",
              "      <td>19961101-16:00</td>\n",
              "      <td>Smoke</td>\n",
              "      <td>11.0</td>\n",
              "      <td>0</td>\n",
              "      <td>0</td>\n",
              "      <td>NaN</td>\n",
              "      <td>47.0</td>\n",
              "      <td>NaN</td>\n",
              "      <td>1011.0</td>\n",
              "      <td>0</td>\n",
              "      <td>0</td>\n",
              "      <td>23.0</td>\n",
              "      <td>0</td>\n",
              "      <td>0</td>\n",
              "      <td>1.2</td>\n",
              "      <td>0.0</td>\n",
              "      <td>North</td>\n",
              "      <td>NaN</td>\n",
              "      <td>NaN</td>\n",
              "      <td>0.0</td>\n",
              "    </tr>\n",
              "  </tbody>\n",
              "</table>\n",
              "</div>"
            ],
            "text/plain": [
              "     datetime_utc  _conds   _dewptm  ...   _wgustm   _windchillm   _wspdm\n",
              "0  19961101-11:00   Smoke       9.0  ...       NaN           NaN      7.4\n",
              "1  19961101-12:00   Smoke      10.0  ...       NaN           NaN      NaN\n",
              "2  19961101-13:00   Smoke      11.0  ...       NaN           NaN      NaN\n",
              "3  19961101-14:00   Smoke      10.0  ...       NaN           NaN      NaN\n",
              "4  19961101-16:00   Smoke      11.0  ...       NaN           NaN      0.0\n",
              "\n",
              "[5 rows x 20 columns]"
            ]
          },
          "metadata": {
            "tags": []
          },
          "execution_count": 3
        }
      ]
    },
    {
      "cell_type": "code",
      "metadata": {
        "id": "EvMhLKPSVZH2",
        "colab_type": "code",
        "colab": {
          "base_uri": "https://localhost:8080/",
          "height": 317
        },
        "outputId": "8584409d-c904-4e8e-f268-9e033158f49d"
      },
      "source": [
        "df.describe()"
      ],
      "execution_count": 4,
      "outputs": [
        {
          "output_type": "execute_result",
          "data": {
            "text/html": [
              "<div>\n",
              "<style scoped>\n",
              "    .dataframe tbody tr th:only-of-type {\n",
              "        vertical-align: middle;\n",
              "    }\n",
              "\n",
              "    .dataframe tbody tr th {\n",
              "        vertical-align: top;\n",
              "    }\n",
              "\n",
              "    .dataframe thead th {\n",
              "        text-align: right;\n",
              "    }\n",
              "</style>\n",
              "<table border=\"1\" class=\"dataframe\">\n",
              "  <thead>\n",
              "    <tr style=\"text-align: right;\">\n",
              "      <th></th>\n",
              "      <th>_dewptm</th>\n",
              "      <th>_fog</th>\n",
              "      <th>_hail</th>\n",
              "      <th>_heatindexm</th>\n",
              "      <th>_hum</th>\n",
              "      <th>_precipm</th>\n",
              "      <th>_pressurem</th>\n",
              "      <th>_rain</th>\n",
              "      <th>_snow</th>\n",
              "      <th>_tempm</th>\n",
              "      <th>_thunder</th>\n",
              "      <th>_tornado</th>\n",
              "      <th>_vism</th>\n",
              "      <th>_wdird</th>\n",
              "      <th>_wgustm</th>\n",
              "      <th>_windchillm</th>\n",
              "      <th>_wspdm</th>\n",
              "    </tr>\n",
              "  </thead>\n",
              "  <tbody>\n",
              "    <tr>\n",
              "      <th>count</th>\n",
              "      <td>98294.000000</td>\n",
              "      <td>98913.000000</td>\n",
              "      <td>98913.000000</td>\n",
              "      <td>29111.000000</td>\n",
              "      <td>98160.000000</td>\n",
              "      <td>0.0</td>\n",
              "      <td>9.868200e+04</td>\n",
              "      <td>98913.000000</td>\n",
              "      <td>98913.00000</td>\n",
              "      <td>98244.000000</td>\n",
              "      <td>98913.000000</td>\n",
              "      <td>98913.000000</td>\n",
              "      <td>94497.000000</td>\n",
              "      <td>84533.000000</td>\n",
              "      <td>1063.000000</td>\n",
              "      <td>573.000000</td>\n",
              "      <td>96560.000000</td>\n",
              "    </tr>\n",
              "    <tr>\n",
              "      <th>mean</th>\n",
              "      <td>15.817130</td>\n",
              "      <td>0.067109</td>\n",
              "      <td>0.000131</td>\n",
              "      <td>35.659606</td>\n",
              "      <td>57.774358</td>\n",
              "      <td>NaN</td>\n",
              "      <td>1.951861e+03</td>\n",
              "      <td>0.026498</td>\n",
              "      <td>0.00001</td>\n",
              "      <td>25.578427</td>\n",
              "      <td>0.009362</td>\n",
              "      <td>0.000020</td>\n",
              "      <td>2.419885</td>\n",
              "      <td>162.550980</td>\n",
              "      <td>37.704516</td>\n",
              "      <td>5.708202</td>\n",
              "      <td>7.685854</td>\n",
              "    </tr>\n",
              "    <tr>\n",
              "      <th>std</th>\n",
              "      <td>7.096917</td>\n",
              "      <td>0.250213</td>\n",
              "      <td>0.011464</td>\n",
              "      <td>5.013579</td>\n",
              "      <td>23.754463</td>\n",
              "      <td>NaN</td>\n",
              "      <td>3.217101e+05</td>\n",
              "      <td>0.160612</td>\n",
              "      <td>0.00318</td>\n",
              "      <td>8.464732</td>\n",
              "      <td>0.096303</td>\n",
              "      <td>0.004497</td>\n",
              "      <td>20.970678</td>\n",
              "      <td>120.019889</td>\n",
              "      <td>6.841070</td>\n",
              "      <td>1.205967</td>\n",
              "      <td>11.995965</td>\n",
              "    </tr>\n",
              "    <tr>\n",
              "      <th>min</th>\n",
              "      <td>-24.000000</td>\n",
              "      <td>0.000000</td>\n",
              "      <td>0.000000</td>\n",
              "      <td>26.800000</td>\n",
              "      <td>4.000000</td>\n",
              "      <td>NaN</td>\n",
              "      <td>-9.999000e+03</td>\n",
              "      <td>0.000000</td>\n",
              "      <td>0.00000</td>\n",
              "      <td>1.000000</td>\n",
              "      <td>0.000000</td>\n",
              "      <td>0.000000</td>\n",
              "      <td>0.000000</td>\n",
              "      <td>0.000000</td>\n",
              "      <td>25.900000</td>\n",
              "      <td>2.100000</td>\n",
              "      <td>0.000000</td>\n",
              "    </tr>\n",
              "    <tr>\n",
              "      <th>25%</th>\n",
              "      <td>10.000000</td>\n",
              "      <td>0.000000</td>\n",
              "      <td>0.000000</td>\n",
              "      <td>31.700000</td>\n",
              "      <td>39.000000</td>\n",
              "      <td>NaN</td>\n",
              "      <td>1.002000e+03</td>\n",
              "      <td>0.000000</td>\n",
              "      <td>0.00000</td>\n",
              "      <td>19.000000</td>\n",
              "      <td>0.000000</td>\n",
              "      <td>0.000000</td>\n",
              "      <td>1.500000</td>\n",
              "      <td>50.000000</td>\n",
              "      <td>33.300000</td>\n",
              "      <td>4.900000</td>\n",
              "      <td>0.000000</td>\n",
              "    </tr>\n",
              "    <tr>\n",
              "      <th>50%</th>\n",
              "      <td>15.000000</td>\n",
              "      <td>0.000000</td>\n",
              "      <td>0.000000</td>\n",
              "      <td>35.100000</td>\n",
              "      <td>58.000000</td>\n",
              "      <td>NaN</td>\n",
              "      <td>1.008000e+03</td>\n",
              "      <td>0.000000</td>\n",
              "      <td>0.00000</td>\n",
              "      <td>27.000000</td>\n",
              "      <td>0.000000</td>\n",
              "      <td>0.000000</td>\n",
              "      <td>2.000000</td>\n",
              "      <td>150.000000</td>\n",
              "      <td>37.000000</td>\n",
              "      <td>6.100000</td>\n",
              "      <td>7.400000</td>\n",
              "    </tr>\n",
              "    <tr>\n",
              "      <th>75%</th>\n",
              "      <td>22.000000</td>\n",
              "      <td>0.000000</td>\n",
              "      <td>0.000000</td>\n",
              "      <td>39.200000</td>\n",
              "      <td>77.000000</td>\n",
              "      <td>NaN</td>\n",
              "      <td>1.014000e+03</td>\n",
              "      <td>0.000000</td>\n",
              "      <td>0.00000</td>\n",
              "      <td>32.000000</td>\n",
              "      <td>0.000000</td>\n",
              "      <td>0.000000</td>\n",
              "      <td>3.000000</td>\n",
              "      <td>270.000000</td>\n",
              "      <td>40.700000</td>\n",
              "      <td>6.800000</td>\n",
              "      <td>11.100000</td>\n",
              "    </tr>\n",
              "    <tr>\n",
              "      <th>max</th>\n",
              "      <td>75.000000</td>\n",
              "      <td>1.000000</td>\n",
              "      <td>1.000000</td>\n",
              "      <td>73.600000</td>\n",
              "      <td>243.000000</td>\n",
              "      <td>NaN</td>\n",
              "      <td>1.010614e+08</td>\n",
              "      <td>1.000000</td>\n",
              "      <td>1.00000</td>\n",
              "      <td>90.000000</td>\n",
              "      <td>1.000000</td>\n",
              "      <td>1.000000</td>\n",
              "      <td>6436.000000</td>\n",
              "      <td>960.000000</td>\n",
              "      <td>92.600000</td>\n",
              "      <td>7.300000</td>\n",
              "      <td>1514.900000</td>\n",
              "    </tr>\n",
              "  </tbody>\n",
              "</table>\n",
              "</div>"
            ],
            "text/plain": [
              "            _dewptm          _fog  ...   _windchillm        _wspdm\n",
              "count  98294.000000  98913.000000  ...    573.000000  96560.000000\n",
              "mean      15.817130      0.067109  ...      5.708202      7.685854\n",
              "std        7.096917      0.250213  ...      1.205967     11.995965\n",
              "min      -24.000000      0.000000  ...      2.100000      0.000000\n",
              "25%       10.000000      0.000000  ...      4.900000      0.000000\n",
              "50%       15.000000      0.000000  ...      6.100000      7.400000\n",
              "75%       22.000000      0.000000  ...      6.800000     11.100000\n",
              "max       75.000000      1.000000  ...      7.300000   1514.900000\n",
              "\n",
              "[8 rows x 17 columns]"
            ]
          },
          "metadata": {
            "tags": []
          },
          "execution_count": 4
        }
      ]
    },
    {
      "cell_type": "code",
      "metadata": {
        "id": "wcq5Y-teVbjo",
        "colab_type": "code",
        "colab": {
          "base_uri": "https://localhost:8080/",
          "height": 442
        },
        "outputId": "63f4b604-a5a8-4205-f837-0a427a1052e9"
      },
      "source": [
        "df.info()"
      ],
      "execution_count": 5,
      "outputs": [
        {
          "output_type": "stream",
          "text": [
            "<class 'pandas.core.frame.DataFrame'>\n",
            "RangeIndex: 98913 entries, 0 to 98912\n",
            "Data columns (total 20 columns):\n",
            "datetime_utc    98913 non-null object\n",
            " _conds         98845 non-null object\n",
            " _dewptm        98294 non-null float64\n",
            " _fog           98913 non-null int64\n",
            " _hail          98913 non-null int64\n",
            " _heatindexm    29111 non-null float64\n",
            " _hum           98160 non-null float64\n",
            " _precipm       0 non-null float64\n",
            " _pressurem     98682 non-null float64\n",
            " _rain          98913 non-null int64\n",
            " _snow          98913 non-null int64\n",
            " _tempm         98244 non-null float64\n",
            " _thunder       98913 non-null int64\n",
            " _tornado       98913 non-null int64\n",
            " _vism          94497 non-null float64\n",
            " _wdird         84533 non-null float64\n",
            " _wdire         84533 non-null object\n",
            " _wgustm        1063 non-null float64\n",
            " _windchillm    573 non-null float64\n",
            " _wspdm         96560 non-null float64\n",
            "dtypes: float64(11), int64(6), object(3)\n",
            "memory usage: 15.1+ MB\n"
          ],
          "name": "stdout"
        }
      ]
    },
    {
      "cell_type": "code",
      "metadata": {
        "id": "uVyfky17VeSW",
        "colab_type": "code",
        "colab": {
          "base_uri": "https://localhost:8080/",
          "height": 340
        },
        "outputId": "57f5dc68-0c0e-4c44-f100-b7eb044a76ab"
      },
      "source": [
        "df['datetime_utc'] = pd.to_datetime(df['datetime_utc'],infer_datetime_format=True)\n",
        "df = df.set_index(['datetime_utc'])\n",
        "df.head()"
      ],
      "execution_count": 6,
      "outputs": [
        {
          "output_type": "execute_result",
          "data": {
            "text/html": [
              "<div>\n",
              "<style scoped>\n",
              "    .dataframe tbody tr th:only-of-type {\n",
              "        vertical-align: middle;\n",
              "    }\n",
              "\n",
              "    .dataframe tbody tr th {\n",
              "        vertical-align: top;\n",
              "    }\n",
              "\n",
              "    .dataframe thead th {\n",
              "        text-align: right;\n",
              "    }\n",
              "</style>\n",
              "<table border=\"1\" class=\"dataframe\">\n",
              "  <thead>\n",
              "    <tr style=\"text-align: right;\">\n",
              "      <th></th>\n",
              "      <th>_conds</th>\n",
              "      <th>_dewptm</th>\n",
              "      <th>_fog</th>\n",
              "      <th>_hail</th>\n",
              "      <th>_heatindexm</th>\n",
              "      <th>_hum</th>\n",
              "      <th>_precipm</th>\n",
              "      <th>_pressurem</th>\n",
              "      <th>_rain</th>\n",
              "      <th>_snow</th>\n",
              "      <th>_tempm</th>\n",
              "      <th>_thunder</th>\n",
              "      <th>_tornado</th>\n",
              "      <th>_vism</th>\n",
              "      <th>_wdird</th>\n",
              "      <th>_wdire</th>\n",
              "      <th>_wgustm</th>\n",
              "      <th>_windchillm</th>\n",
              "      <th>_wspdm</th>\n",
              "    </tr>\n",
              "    <tr>\n",
              "      <th>datetime_utc</th>\n",
              "      <th></th>\n",
              "      <th></th>\n",
              "      <th></th>\n",
              "      <th></th>\n",
              "      <th></th>\n",
              "      <th></th>\n",
              "      <th></th>\n",
              "      <th></th>\n",
              "      <th></th>\n",
              "      <th></th>\n",
              "      <th></th>\n",
              "      <th></th>\n",
              "      <th></th>\n",
              "      <th></th>\n",
              "      <th></th>\n",
              "      <th></th>\n",
              "      <th></th>\n",
              "      <th></th>\n",
              "      <th></th>\n",
              "    </tr>\n",
              "  </thead>\n",
              "  <tbody>\n",
              "    <tr>\n",
              "      <th>1996-11-01 11:00:00</th>\n",
              "      <td>Smoke</td>\n",
              "      <td>9.0</td>\n",
              "      <td>0</td>\n",
              "      <td>0</td>\n",
              "      <td>NaN</td>\n",
              "      <td>27.0</td>\n",
              "      <td>NaN</td>\n",
              "      <td>1010.0</td>\n",
              "      <td>0</td>\n",
              "      <td>0</td>\n",
              "      <td>30.0</td>\n",
              "      <td>0</td>\n",
              "      <td>0</td>\n",
              "      <td>5.0</td>\n",
              "      <td>280.0</td>\n",
              "      <td>West</td>\n",
              "      <td>NaN</td>\n",
              "      <td>NaN</td>\n",
              "      <td>7.4</td>\n",
              "    </tr>\n",
              "    <tr>\n",
              "      <th>1996-11-01 12:00:00</th>\n",
              "      <td>Smoke</td>\n",
              "      <td>10.0</td>\n",
              "      <td>0</td>\n",
              "      <td>0</td>\n",
              "      <td>NaN</td>\n",
              "      <td>32.0</td>\n",
              "      <td>NaN</td>\n",
              "      <td>-9999.0</td>\n",
              "      <td>0</td>\n",
              "      <td>0</td>\n",
              "      <td>28.0</td>\n",
              "      <td>0</td>\n",
              "      <td>0</td>\n",
              "      <td>NaN</td>\n",
              "      <td>0.0</td>\n",
              "      <td>North</td>\n",
              "      <td>NaN</td>\n",
              "      <td>NaN</td>\n",
              "      <td>NaN</td>\n",
              "    </tr>\n",
              "    <tr>\n",
              "      <th>1996-11-01 13:00:00</th>\n",
              "      <td>Smoke</td>\n",
              "      <td>11.0</td>\n",
              "      <td>0</td>\n",
              "      <td>0</td>\n",
              "      <td>NaN</td>\n",
              "      <td>44.0</td>\n",
              "      <td>NaN</td>\n",
              "      <td>-9999.0</td>\n",
              "      <td>0</td>\n",
              "      <td>0</td>\n",
              "      <td>24.0</td>\n",
              "      <td>0</td>\n",
              "      <td>0</td>\n",
              "      <td>NaN</td>\n",
              "      <td>0.0</td>\n",
              "      <td>North</td>\n",
              "      <td>NaN</td>\n",
              "      <td>NaN</td>\n",
              "      <td>NaN</td>\n",
              "    </tr>\n",
              "    <tr>\n",
              "      <th>1996-11-01 14:00:00</th>\n",
              "      <td>Smoke</td>\n",
              "      <td>10.0</td>\n",
              "      <td>0</td>\n",
              "      <td>0</td>\n",
              "      <td>NaN</td>\n",
              "      <td>41.0</td>\n",
              "      <td>NaN</td>\n",
              "      <td>1010.0</td>\n",
              "      <td>0</td>\n",
              "      <td>0</td>\n",
              "      <td>24.0</td>\n",
              "      <td>0</td>\n",
              "      <td>0</td>\n",
              "      <td>2.0</td>\n",
              "      <td>0.0</td>\n",
              "      <td>North</td>\n",
              "      <td>NaN</td>\n",
              "      <td>NaN</td>\n",
              "      <td>NaN</td>\n",
              "    </tr>\n",
              "    <tr>\n",
              "      <th>1996-11-01 16:00:00</th>\n",
              "      <td>Smoke</td>\n",
              "      <td>11.0</td>\n",
              "      <td>0</td>\n",
              "      <td>0</td>\n",
              "      <td>NaN</td>\n",
              "      <td>47.0</td>\n",
              "      <td>NaN</td>\n",
              "      <td>1011.0</td>\n",
              "      <td>0</td>\n",
              "      <td>0</td>\n",
              "      <td>23.0</td>\n",
              "      <td>0</td>\n",
              "      <td>0</td>\n",
              "      <td>1.2</td>\n",
              "      <td>0.0</td>\n",
              "      <td>North</td>\n",
              "      <td>NaN</td>\n",
              "      <td>NaN</td>\n",
              "      <td>0.0</td>\n",
              "    </tr>\n",
              "  </tbody>\n",
              "</table>\n",
              "</div>"
            ],
            "text/plain": [
              "                     _conds   _dewptm   _fog  ...   _wgustm   _windchillm   _wspdm\n",
              "datetime_utc                                  ...                                 \n",
              "1996-11-01 11:00:00   Smoke       9.0      0  ...       NaN           NaN      7.4\n",
              "1996-11-01 12:00:00   Smoke      10.0      0  ...       NaN           NaN      NaN\n",
              "1996-11-01 13:00:00   Smoke      11.0      0  ...       NaN           NaN      NaN\n",
              "1996-11-01 14:00:00   Smoke      10.0      0  ...       NaN           NaN      NaN\n",
              "1996-11-01 16:00:00   Smoke      11.0      0  ...       NaN           NaN      0.0\n",
              "\n",
              "[5 rows x 19 columns]"
            ]
          },
          "metadata": {
            "tags": []
          },
          "execution_count": 6
        }
      ]
    },
    {
      "cell_type": "code",
      "metadata": {
        "id": "GlruvxwJWcNm",
        "colab_type": "code",
        "colab": {
          "base_uri": "https://localhost:8080/",
          "height": 102
        },
        "outputId": "c636cb5b-af25-49ce-9fa7-6b4cf140bfdb"
      },
      "source": [
        "df.columns"
      ],
      "execution_count": 7,
      "outputs": [
        {
          "output_type": "execute_result",
          "data": {
            "text/plain": [
              "Index([' _conds', ' _dewptm', ' _fog', ' _hail', ' _heatindexm', ' _hum',\n",
              "       ' _precipm', ' _pressurem', ' _rain', ' _snow', ' _tempm', ' _thunder',\n",
              "       ' _tornado', ' _vism', ' _wdird', ' _wdire', ' _wgustm', ' _windchillm',\n",
              "       ' _wspdm'],\n",
              "      dtype='object')"
            ]
          },
          "metadata": {
            "tags": []
          },
          "execution_count": 7
        }
      ]
    },
    {
      "cell_type": "code",
      "metadata": {
        "id": "N-HjDqi4WS2e",
        "colab_type": "code",
        "colab": {
          "base_uri": "https://localhost:8080/",
          "height": 235
        },
        "outputId": "4b4adb3b-35fe-4d13-a208-0c1281882e3e"
      },
      "source": [
        "forecast = df.drop([' _conds', ' _dewptm', ' _fog', ' _hail', ' _heatindexm', ' _hum',\n",
        "       ' _precipm', ' _pressurem', ' _rain', ' _snow',' _thunder',\n",
        "       ' _tornado', ' _vism', ' _wdird', ' _wdire', ' _wgustm', ' _windchillm',\n",
        "       ' _wspdm'],axis=1)\n",
        "\n",
        "forecast.head()"
      ],
      "execution_count": 8,
      "outputs": [
        {
          "output_type": "execute_result",
          "data": {
            "text/html": [
              "<div>\n",
              "<style scoped>\n",
              "    .dataframe tbody tr th:only-of-type {\n",
              "        vertical-align: middle;\n",
              "    }\n",
              "\n",
              "    .dataframe tbody tr th {\n",
              "        vertical-align: top;\n",
              "    }\n",
              "\n",
              "    .dataframe thead th {\n",
              "        text-align: right;\n",
              "    }\n",
              "</style>\n",
              "<table border=\"1\" class=\"dataframe\">\n",
              "  <thead>\n",
              "    <tr style=\"text-align: right;\">\n",
              "      <th></th>\n",
              "      <th>_tempm</th>\n",
              "    </tr>\n",
              "    <tr>\n",
              "      <th>datetime_utc</th>\n",
              "      <th></th>\n",
              "    </tr>\n",
              "  </thead>\n",
              "  <tbody>\n",
              "    <tr>\n",
              "      <th>1996-11-01 11:00:00</th>\n",
              "      <td>30.0</td>\n",
              "    </tr>\n",
              "    <tr>\n",
              "      <th>1996-11-01 12:00:00</th>\n",
              "      <td>28.0</td>\n",
              "    </tr>\n",
              "    <tr>\n",
              "      <th>1996-11-01 13:00:00</th>\n",
              "      <td>24.0</td>\n",
              "    </tr>\n",
              "    <tr>\n",
              "      <th>1996-11-01 14:00:00</th>\n",
              "      <td>24.0</td>\n",
              "    </tr>\n",
              "    <tr>\n",
              "      <th>1996-11-01 16:00:00</th>\n",
              "      <td>23.0</td>\n",
              "    </tr>\n",
              "  </tbody>\n",
              "</table>\n",
              "</div>"
            ],
            "text/plain": [
              "                      _tempm\n",
              "datetime_utc                \n",
              "1996-11-01 11:00:00     30.0\n",
              "1996-11-01 12:00:00     28.0\n",
              "1996-11-01 13:00:00     24.0\n",
              "1996-11-01 14:00:00     24.0\n",
              "1996-11-01 16:00:00     23.0"
            ]
          },
          "metadata": {
            "tags": []
          },
          "execution_count": 8
        }
      ]
    },
    {
      "cell_type": "code",
      "metadata": {
        "id": "TGeGYnacWrx3",
        "colab_type": "code",
        "colab": {
          "base_uri": "https://localhost:8080/",
          "height": 51
        },
        "outputId": "f2b4f62f-3530-45f6-8afc-a27990cce031"
      },
      "source": [
        "forecast.isna().sum()"
      ],
      "execution_count": 9,
      "outputs": [
        {
          "output_type": "execute_result",
          "data": {
            "text/plain": [
              " _tempm    669\n",
              "dtype: int64"
            ]
          },
          "metadata": {
            "tags": []
          },
          "execution_count": 9
        }
      ]
    },
    {
      "cell_type": "code",
      "metadata": {
        "id": "9ceVjmfRXEGq",
        "colab_type": "code",
        "colab": {
          "base_uri": "https://localhost:8080/",
          "height": 297
        },
        "outputId": "0a2f73fc-b878-4a91-93c9-ba8389cedb6a"
      },
      "source": [
        "forecast.describe()"
      ],
      "execution_count": 10,
      "outputs": [
        {
          "output_type": "execute_result",
          "data": {
            "text/html": [
              "<div>\n",
              "<style scoped>\n",
              "    .dataframe tbody tr th:only-of-type {\n",
              "        vertical-align: middle;\n",
              "    }\n",
              "\n",
              "    .dataframe tbody tr th {\n",
              "        vertical-align: top;\n",
              "    }\n",
              "\n",
              "    .dataframe thead th {\n",
              "        text-align: right;\n",
              "    }\n",
              "</style>\n",
              "<table border=\"1\" class=\"dataframe\">\n",
              "  <thead>\n",
              "    <tr style=\"text-align: right;\">\n",
              "      <th></th>\n",
              "      <th>_tempm</th>\n",
              "    </tr>\n",
              "  </thead>\n",
              "  <tbody>\n",
              "    <tr>\n",
              "      <th>count</th>\n",
              "      <td>98244.000000</td>\n",
              "    </tr>\n",
              "    <tr>\n",
              "      <th>mean</th>\n",
              "      <td>25.578427</td>\n",
              "    </tr>\n",
              "    <tr>\n",
              "      <th>std</th>\n",
              "      <td>8.464732</td>\n",
              "    </tr>\n",
              "    <tr>\n",
              "      <th>min</th>\n",
              "      <td>1.000000</td>\n",
              "    </tr>\n",
              "    <tr>\n",
              "      <th>25%</th>\n",
              "      <td>19.000000</td>\n",
              "    </tr>\n",
              "    <tr>\n",
              "      <th>50%</th>\n",
              "      <td>27.000000</td>\n",
              "    </tr>\n",
              "    <tr>\n",
              "      <th>75%</th>\n",
              "      <td>32.000000</td>\n",
              "    </tr>\n",
              "    <tr>\n",
              "      <th>max</th>\n",
              "      <td>90.000000</td>\n",
              "    </tr>\n",
              "  </tbody>\n",
              "</table>\n",
              "</div>"
            ],
            "text/plain": [
              "             _tempm\n",
              "count  98244.000000\n",
              "mean      25.578427\n",
              "std        8.464732\n",
              "min        1.000000\n",
              "25%       19.000000\n",
              "50%       27.000000\n",
              "75%       32.000000\n",
              "max       90.000000"
            ]
          },
          "metadata": {
            "tags": []
          },
          "execution_count": 10
        }
      ]
    },
    {
      "cell_type": "code",
      "metadata": {
        "id": "CO4YjtUIW3m5",
        "colab_type": "code",
        "colab": {
          "base_uri": "https://localhost:8080/",
          "height": 235
        },
        "outputId": "6d583401-14ff-4090-84f8-5e13487b20aa"
      },
      "source": [
        "forecast = forecast.dropna()\n",
        "forecast.head()"
      ],
      "execution_count": 11,
      "outputs": [
        {
          "output_type": "execute_result",
          "data": {
            "text/html": [
              "<div>\n",
              "<style scoped>\n",
              "    .dataframe tbody tr th:only-of-type {\n",
              "        vertical-align: middle;\n",
              "    }\n",
              "\n",
              "    .dataframe tbody tr th {\n",
              "        vertical-align: top;\n",
              "    }\n",
              "\n",
              "    .dataframe thead th {\n",
              "        text-align: right;\n",
              "    }\n",
              "</style>\n",
              "<table border=\"1\" class=\"dataframe\">\n",
              "  <thead>\n",
              "    <tr style=\"text-align: right;\">\n",
              "      <th></th>\n",
              "      <th>_tempm</th>\n",
              "    </tr>\n",
              "    <tr>\n",
              "      <th>datetime_utc</th>\n",
              "      <th></th>\n",
              "    </tr>\n",
              "  </thead>\n",
              "  <tbody>\n",
              "    <tr>\n",
              "      <th>1996-11-01 11:00:00</th>\n",
              "      <td>30.0</td>\n",
              "    </tr>\n",
              "    <tr>\n",
              "      <th>1996-11-01 12:00:00</th>\n",
              "      <td>28.0</td>\n",
              "    </tr>\n",
              "    <tr>\n",
              "      <th>1996-11-01 13:00:00</th>\n",
              "      <td>24.0</td>\n",
              "    </tr>\n",
              "    <tr>\n",
              "      <th>1996-11-01 14:00:00</th>\n",
              "      <td>24.0</td>\n",
              "    </tr>\n",
              "    <tr>\n",
              "      <th>1996-11-01 16:00:00</th>\n",
              "      <td>23.0</td>\n",
              "    </tr>\n",
              "  </tbody>\n",
              "</table>\n",
              "</div>"
            ],
            "text/plain": [
              "                      _tempm\n",
              "datetime_utc                \n",
              "1996-11-01 11:00:00     30.0\n",
              "1996-11-01 12:00:00     28.0\n",
              "1996-11-01 13:00:00     24.0\n",
              "1996-11-01 14:00:00     24.0\n",
              "1996-11-01 16:00:00     23.0"
            ]
          },
          "metadata": {
            "tags": []
          },
          "execution_count": 11
        }
      ]
    },
    {
      "cell_type": "code",
      "metadata": {
        "id": "n02cGHfpXOW7",
        "colab_type": "code",
        "colab": {
          "base_uri": "https://localhost:8080/",
          "height": 119
        },
        "outputId": "fd46b5eb-bc44-42b4-f6e0-cd99fbbb4ce2"
      },
      "source": [
        "forecast.info()"
      ],
      "execution_count": 12,
      "outputs": [
        {
          "output_type": "stream",
          "text": [
            "<class 'pandas.core.frame.DataFrame'>\n",
            "DatetimeIndex: 98244 entries, 1996-11-01 11:00:00 to 2016-11-30 21:00:00\n",
            "Data columns (total 1 columns):\n",
            " _tempm    98244 non-null float64\n",
            "dtypes: float64(1)\n",
            "memory usage: 1.5 MB\n"
          ],
          "name": "stdout"
        }
      ]
    },
    {
      "cell_type": "code",
      "metadata": {
        "id": "1jQRTwXTXPol",
        "colab_type": "code",
        "colab": {
          "base_uri": "https://localhost:8080/",
          "height": 652
        },
        "outputId": "b4014e35-4d4d-471f-826f-c0a01cd2e4a8"
      },
      "source": [
        "plt.figure(figsize=(10,8))\n",
        "plt.plot(forecast)\n",
        "plt.xlabel('Date')\n",
        "plt.ylabel('temp')\n",
        "plt.title('Checking if the Data is stationary.')"
      ],
      "execution_count": 13,
      "outputs": [
        {
          "output_type": "stream",
          "text": [
            "/usr/local/lib/python3.6/dist-packages/pandas/plotting/_matplotlib/converter.py:103: FutureWarning: Using an implicitly registered datetime converter for a matplotlib plotting method. The converter was registered by pandas on import. Future versions of pandas will require you to explicitly register matplotlib converters.\n",
            "\n",
            "To register the converters:\n",
            "\t>>> from pandas.plotting import register_matplotlib_converters\n",
            "\t>>> register_matplotlib_converters()\n",
            "  warnings.warn(msg, FutureWarning)\n"
          ],
          "name": "stderr"
        },
        {
          "output_type": "execute_result",
          "data": {
            "text/plain": [
              "Text(0.5, 1.0, 'Checking if the Data is stationary.')"
            ]
          },
          "metadata": {
            "tags": []
          },
          "execution_count": 13
        },
        {
          "output_type": "display_data",
          "data": {
            "image/png": "[encoded data removed]",
            "text/plain": [
              "<Figure size 720x576 with 1 Axes>"
            ]
          },
          "metadata": {
            "tags": []
          }
        }
      ]
    },
    {
      "cell_type": "markdown",
      "metadata": {
        "id": "GH0Pc8FaYRaN",
        "colab_type": "text"
      },
      "source": [
        "# Rolling Stats"
      ]
    },
    {
      "cell_type": "code",
      "metadata": {
        "id": "3Z2DhBFZXjLd",
        "colab_type": "code",
        "colab": {}
      },
      "source": [
        "rolling_mean = forecast.rolling(window=24).mean()\n",
        "rolling_std = forecast.rolling(window=24).std()\n",
        "\n",
        "# print(rolling_mean,rolling_std)"
      ],
      "execution_count": 0,
      "outputs": []
    },
    {
      "cell_type": "code",
      "metadata": {
        "id": "ny-Wfn1haHiP",
        "colab_type": "code",
        "colab": {
          "base_uri": "https://localhost:8080/",
          "height": 516
        },
        "outputId": "3db5e0c0-6da6-4594-e0b7-a7f4672f5a74"
      },
      "source": [
        "plt.figure(figsize=(14,8))\n",
        "plt.plot(forecast,color='blue',label= 'Original')\n",
        "plt.plot(rolling_mean ,color = 'red',label='rolling_mean')\n",
        "plt.plot(rolling_std,color='black',label='rollig_std')\n",
        "plt.legend(loc='best')\n",
        "plt.title('Rolling Std and Mean')"
      ],
      "execution_count": 15,
      "outputs": [
        {
          "output_type": "execute_result",
          "data": {
            "text/plain": [
              "Text(0.5, 1.0, 'Rolling Std and Mean')"
            ]
          },
          "metadata": {
            "tags": []
          },
          "execution_count": 15
        },
        {
          "output_type": "display_data",
          "data": {
            "image/png": "[encoded data removed]",
            "text/plain": [
              "<Figure size 1008x576 with 1 Axes>"
            ]
          },
          "metadata": {
            "tags": []
          }
        }
      ]
    },
    {
      "cell_type": "code",
      "metadata": {
        "id": "TxjaqDOJayK8",
        "colab_type": "code",
        "colab": {}
      },
      "source": [
        "from statsmodels.tsa.stattools import adfuller"
      ],
      "execution_count": 0,
      "outputs": []
    },
    {
      "cell_type": "code",
      "metadata": {
        "id": "e1ei2FCFhSx2",
        "colab_type": "code",
        "colab": {
          "base_uri": "https://localhost:8080/",
          "height": 235
        },
        "outputId": "f694b2f9-8d14-42d5-b24f-4d8160550545"
      },
      "source": [
        "forecast.head()"
      ],
      "execution_count": 17,
      "outputs": [
        {
          "output_type": "execute_result",
          "data": {
            "text/html": [
              "<div>\n",
              "<style scoped>\n",
              "    .dataframe tbody tr th:only-of-type {\n",
              "        vertical-align: middle;\n",
              "    }\n",
              "\n",
              "    .dataframe tbody tr th {\n",
              "        vertical-align: top;\n",
              "    }\n",
              "\n",
              "    .dataframe thead th {\n",
              "        text-align: right;\n",
              "    }\n",
              "</style>\n",
              "<table border=\"1\" class=\"dataframe\">\n",
              "  <thead>\n",
              "    <tr style=\"text-align: right;\">\n",
              "      <th></th>\n",
              "      <th>_tempm</th>\n",
              "    </tr>\n",
              "    <tr>\n",
              "      <th>datetime_utc</th>\n",
              "      <th></th>\n",
              "    </tr>\n",
              "  </thead>\n",
              "  <tbody>\n",
              "    <tr>\n",
              "      <th>1996-11-01 11:00:00</th>\n",
              "      <td>30.0</td>\n",
              "    </tr>\n",
              "    <tr>\n",
              "      <th>1996-11-01 12:00:00</th>\n",
              "      <td>28.0</td>\n",
              "    </tr>\n",
              "    <tr>\n",
              "      <th>1996-11-01 13:00:00</th>\n",
              "      <td>24.0</td>\n",
              "    </tr>\n",
              "    <tr>\n",
              "      <th>1996-11-01 14:00:00</th>\n",
              "      <td>24.0</td>\n",
              "    </tr>\n",
              "    <tr>\n",
              "      <th>1996-11-01 16:00:00</th>\n",
              "      <td>23.0</td>\n",
              "    </tr>\n",
              "  </tbody>\n",
              "</table>\n",
              "</div>"
            ],
            "text/plain": [
              "                      _tempm\n",
              "datetime_utc                \n",
              "1996-11-01 11:00:00     30.0\n",
              "1996-11-01 12:00:00     28.0\n",
              "1996-11-01 13:00:00     24.0\n",
              "1996-11-01 14:00:00     24.0\n",
              "1996-11-01 16:00:00     23.0"
            ]
          },
          "metadata": {
            "tags": []
          },
          "execution_count": 17
        }
      ]
    },
    {
      "cell_type": "code",
      "metadata": {
        "id": "navwZPVWhudk",
        "colab_type": "code",
        "colab": {
          "base_uri": "https://localhost:8080/",
          "height": 238
        },
        "outputId": "4443528a-5f69-4678-c507-c212671a4b42"
      },
      "source": [
        "forecast[' _tempm']"
      ],
      "execution_count": 18,
      "outputs": [
        {
          "output_type": "execute_result",
          "data": {
            "text/plain": [
              "datetime_utc\n",
              "1996-11-01 11:00:00    30.0\n",
              "1996-11-01 12:00:00    28.0\n",
              "1996-11-01 13:00:00    24.0\n",
              "1996-11-01 14:00:00    24.0\n",
              "1996-11-01 16:00:00    23.0\n",
              "                       ... \n",
              "2016-11-30 12:30:00    21.0\n",
              "2016-11-30 13:00:00    19.0\n",
              "2016-11-30 15:00:00    17.0\n",
              "2016-11-30 18:00:00    15.0\n",
              "2016-11-30 21:00:00    14.0\n",
              "Name:  _tempm, Length: 98244, dtype: float64"
            ]
          },
          "metadata": {
            "tags": []
          },
          "execution_count": 18
        }
      ]
    },
    {
      "cell_type": "markdown",
      "metadata": {
        "id": "YNpge16hoa-L",
        "colab_type": "text"
      },
      "source": [
        "# ADFC TEST"
      ]
    },
    {
      "cell_type": "code",
      "metadata": {
        "id": "JKzraPw2ecuV",
        "colab_type": "code",
        "colab": {
          "base_uri": "https://localhost:8080/",
          "height": 170
        },
        "outputId": "dc38cde4-bd26-4525-d9ce-08a478cedbbd"
      },
      "source": [
        "print(\"Print of ADFULLER Test\")\n",
        "\n",
        "adfuller_test = adfuller(forecast[' _tempm'],autolag='AIC',)\n",
        "\n",
        "adfuller_output = pd.Series(adfuller_test[0:4],index=['Test Stats','P-value','#Lags used','No of obs used'])\n",
        "\n",
        "for keys,value in adfuller_test[4].items():\n",
        "\n",
        "  adfuller_output['Critical value (%s)'%keys] = value\n",
        "\n",
        "print(adfuller_output)"
      ],
      "execution_count": 19,
      "outputs": [
        {
          "output_type": "stream",
          "text": [
            "Print of ADFULLER Test\n",
            "Test Stats             -7.523041e+00\n",
            "P-value                 3.746839e-11\n",
            "#Lags used              6.800000e+01\n",
            "No of obs used          9.817500e+04\n",
            "Critical value (1%)    -3.430417e+00\n",
            "Critical value (5%)    -2.861569e+00\n",
            "Critical value (10%)   -2.566786e+00\n",
            "dtype: float64\n"
          ],
          "name": "stdout"
        }
      ]
    },
    {
      "cell_type": "markdown",
      "metadata": {
        "id": "GxGTckbSoSaH",
        "colab_type": "text"
      },
      "source": [
        "### As the ADFC test shows and by Rolling stats we have a stationary data"
      ]
    },
    {
      "cell_type": "markdown",
      "metadata": {
        "id": "ilqcqGQBotWq",
        "colab_type": "text"
      },
      "source": [
        "## USING BASELINE MODEL"
      ]
    },
    {
      "cell_type": "code",
      "metadata": {
        "id": "D7e8kOZif5d8",
        "colab_type": "code",
        "colab": {}
      },
      "source": [
        "from sklearn.metrics import mean_squared_error"
      ],
      "execution_count": 0,
      "outputs": []
    },
    {
      "cell_type": "code",
      "metadata": {
        "id": "Ipv2iyw8jmQn",
        "colab_type": "code",
        "colab": {
          "base_uri": "https://localhost:8080/",
          "height": 272
        },
        "outputId": "533559a1-2127-4c6c-ef69-292493120623"
      },
      "source": [
        "baseline_df = pd.concat([forecast[' _tempm'],forecast[' _tempm'].shift(1)],axis=1)\n",
        "baseline_df.head"
      ],
      "execution_count": 21,
      "outputs": [
        {
          "output_type": "execute_result",
          "data": {
            "text/plain": [
              "<bound method NDFrame.head of                       _tempm   _tempm\n",
              "datetime_utc                         \n",
              "1996-11-01 11:00:00     30.0      NaN\n",
              "1996-11-01 12:00:00     28.0     30.0\n",
              "1996-11-01 13:00:00     24.0     28.0\n",
              "1996-11-01 14:00:00     24.0     24.0\n",
              "1996-11-01 16:00:00     23.0     24.0\n",
              "...                      ...      ...\n",
              "2016-11-30 12:30:00     21.0     23.0\n",
              "2016-11-30 13:00:00     19.0     21.0\n",
              "2016-11-30 15:00:00     17.0     19.0\n",
              "2016-11-30 18:00:00     15.0     17.0\n",
              "2016-11-30 21:00:00     14.0     15.0\n",
              "\n",
              "[98244 rows x 2 columns]>"
            ]
          },
          "metadata": {
            "tags": []
          },
          "execution_count": 21
        }
      ]
    },
    {
      "cell_type": "code",
      "metadata": {
        "id": "ZLEQGdFMpjHW",
        "colab_type": "code",
        "colab": {
          "base_uri": "https://localhost:8080/",
          "height": 235
        },
        "outputId": "ed9628a8-4948-4dc3-f8a1-d2e35ec66990"
      },
      "source": [
        "baseline_df.dropna(inplace=True)\n",
        "baseline_df.head()"
      ],
      "execution_count": 22,
      "outputs": [
        {
          "output_type": "execute_result",
          "data": {
            "text/html": [
              "<div>\n",
              "<style scoped>\n",
              "    .dataframe tbody tr th:only-of-type {\n",
              "        vertical-align: middle;\n",
              "    }\n",
              "\n",
              "    .dataframe tbody tr th {\n",
              "        vertical-align: top;\n",
              "    }\n",
              "\n",
              "    .dataframe thead th {\n",
              "        text-align: right;\n",
              "    }\n",
              "</style>\n",
              "<table border=\"1\" class=\"dataframe\">\n",
              "  <thead>\n",
              "    <tr style=\"text-align: right;\">\n",
              "      <th></th>\n",
              "      <th>_tempm</th>\n",
              "      <th>_tempm</th>\n",
              "    </tr>\n",
              "    <tr>\n",
              "      <th>datetime_utc</th>\n",
              "      <th></th>\n",
              "      <th></th>\n",
              "    </tr>\n",
              "  </thead>\n",
              "  <tbody>\n",
              "    <tr>\n",
              "      <th>1996-11-01 12:00:00</th>\n",
              "      <td>28.0</td>\n",
              "      <td>30.0</td>\n",
              "    </tr>\n",
              "    <tr>\n",
              "      <th>1996-11-01 13:00:00</th>\n",
              "      <td>24.0</td>\n",
              "      <td>28.0</td>\n",
              "    </tr>\n",
              "    <tr>\n",
              "      <th>1996-11-01 14:00:00</th>\n",
              "      <td>24.0</td>\n",
              "      <td>24.0</td>\n",
              "    </tr>\n",
              "    <tr>\n",
              "      <th>1996-11-01 16:00:00</th>\n",
              "      <td>23.0</td>\n",
              "      <td>24.0</td>\n",
              "    </tr>\n",
              "    <tr>\n",
              "      <th>1996-11-01 17:00:00</th>\n",
              "      <td>21.0</td>\n",
              "      <td>23.0</td>\n",
              "    </tr>\n",
              "  </tbody>\n",
              "</table>\n",
              "</div>"
            ],
            "text/plain": [
              "                      _tempm   _tempm\n",
              "datetime_utc                         \n",
              "1996-11-01 12:00:00     28.0     30.0\n",
              "1996-11-01 13:00:00     24.0     28.0\n",
              "1996-11-01 14:00:00     24.0     24.0\n",
              "1996-11-01 16:00:00     23.0     24.0\n",
              "1996-11-01 17:00:00     21.0     23.0"
            ]
          },
          "metadata": {
            "tags": []
          },
          "execution_count": 22
        }
      ]
    },
    {
      "cell_type": "code",
      "metadata": {
        "id": "aKTnkYAjp7bp",
        "colab_type": "code",
        "colab": {
          "base_uri": "https://localhost:8080/",
          "height": 235
        },
        "outputId": "51dd4346-6a8e-4788-ecca-22bbe0f3961b"
      },
      "source": [
        "baseline_df.columns = ['Actual_temp',\"predicted_temp\"]\n",
        "baseline_df.head()"
      ],
      "execution_count": 23,
      "outputs": [
        {
          "output_type": "execute_result",
          "data": {
            "text/html": [
              "<div>\n",
              "<style scoped>\n",
              "    .dataframe tbody tr th:only-of-type {\n",
              "        vertical-align: middle;\n",
              "    }\n",
              "\n",
              "    .dataframe tbody tr th {\n",
              "        vertical-align: top;\n",
              "    }\n",
              "\n",
              "    .dataframe thead th {\n",
              "        text-align: right;\n",
              "    }\n",
              "</style>\n",
              "<table border=\"1\" class=\"dataframe\">\n",
              "  <thead>\n",
              "    <tr style=\"text-align: right;\">\n",
              "      <th></th>\n",
              "      <th>Actual_temp</th>\n",
              "      <th>predicted_temp</th>\n",
              "    </tr>\n",
              "    <tr>\n",
              "      <th>datetime_utc</th>\n",
              "      <th></th>\n",
              "      <th></th>\n",
              "    </tr>\n",
              "  </thead>\n",
              "  <tbody>\n",
              "    <tr>\n",
              "      <th>1996-11-01 12:00:00</th>\n",
              "      <td>28.0</td>\n",
              "      <td>30.0</td>\n",
              "    </tr>\n",
              "    <tr>\n",
              "      <th>1996-11-01 13:00:00</th>\n",
              "      <td>24.0</td>\n",
              "      <td>28.0</td>\n",
              "    </tr>\n",
              "    <tr>\n",
              "      <th>1996-11-01 14:00:00</th>\n",
              "      <td>24.0</td>\n",
              "      <td>24.0</td>\n",
              "    </tr>\n",
              "    <tr>\n",
              "      <th>1996-11-01 16:00:00</th>\n",
              "      <td>23.0</td>\n",
              "      <td>24.0</td>\n",
              "    </tr>\n",
              "    <tr>\n",
              "      <th>1996-11-01 17:00:00</th>\n",
              "      <td>21.0</td>\n",
              "      <td>23.0</td>\n",
              "    </tr>\n",
              "  </tbody>\n",
              "</table>\n",
              "</div>"
            ],
            "text/plain": [
              "                     Actual_temp  predicted_temp\n",
              "datetime_utc                                    \n",
              "1996-11-01 12:00:00         28.0            30.0\n",
              "1996-11-01 13:00:00         24.0            28.0\n",
              "1996-11-01 14:00:00         24.0            24.0\n",
              "1996-11-01 16:00:00         23.0            24.0\n",
              "1996-11-01 17:00:00         21.0            23.0"
            ]
          },
          "metadata": {
            "tags": []
          },
          "execution_count": 23
        }
      ]
    },
    {
      "cell_type": "code",
      "metadata": {
        "id": "aJhnbO1zpq38",
        "colab_type": "code",
        "colab": {
          "base_uri": "https://localhost:8080/",
          "height": 34
        },
        "outputId": "e0609aeb-e4dc-400c-b7ae-e81ca07fb7a6"
      },
      "source": [
        "np.sqrt(mean_squared_error(baseline_df['Actual_temp'],baseline_df['predicted_temp']))"
      ],
      "execution_count": 24,
      "outputs": [
        {
          "output_type": "execute_result",
          "data": {
            "text/plain": [
              "2.6318009867663634"
            ]
          },
          "metadata": {
            "tags": []
          },
          "execution_count": 24
        }
      ]
    },
    {
      "cell_type": "markdown",
      "metadata": {
        "id": "OupLB5odqnCE",
        "colab_type": "text"
      },
      "source": [
        "### Using a baseline model we get an error of 2.63 that means we have could make an error of 2.63 from the actual value ; either more or less"
      ]
    },
    {
      "cell_type": "code",
      "metadata": {
        "id": "l8i1lN5yqj_3",
        "colab_type": "code",
        "colab": {
          "base_uri": "https://localhost:8080/",
          "height": 54
        },
        "outputId": "cd78c732-6911-48dd-f63f-a8af26cbdbf9"
      },
      "source": [
        "'''NOW we would be using ARIMA model to predict the weather values.\n",
        "\n",
        "ARIMA  =  AutoRegressive(p) Integrated(d) Moving Average(q)\n",
        "\n",
        "\n",
        "We will find the values of q with the plot_acf and value of p with the plot_pacf ; the value of d is usually in the range of [1,2] '''"
      ],
      "execution_count": 25,
      "outputs": [
        {
          "output_type": "execute_result",
          "data": {
            "text/plain": [
              "'NOW we would be using ARIMA model to predict the weather values.\\n\\nARIMA  =  AutoRegressive(p) Integrated(d) Moving Average(q)\\n\\n\\nWe will find the values of q with the plot_acf and value of p with the plot_pacf ; the value of d is usually in the range of [1,2] '"
            ]
          },
          "metadata": {
            "tags": []
          },
          "execution_count": 25
        }
      ]
    },
    {
      "cell_type": "code",
      "metadata": {
        "id": "WEthDifJrSyy",
        "colab_type": "code",
        "colab": {}
      },
      "source": [
        "from statsmodels.graphics.tsaplots import plot_acf,plot_pacf"
      ],
      "execution_count": 0,
      "outputs": []
    },
    {
      "cell_type": "code",
      "metadata": {
        "id": "JgJeIKPdrSsT",
        "colab_type": "code",
        "colab": {
          "base_uri": "https://localhost:8080/",
          "height": 545
        },
        "outputId": "223c517c-239c-4e70-a466-b16f0ef88e42"
      },
      "source": [
        "plot_acf(forecast)"
      ],
      "execution_count": 27,
      "outputs": [
        {
          "output_type": "execute_result",
          "data": {
            "image/png": "[encoded data removed]",
            "text/plain": [
              "<Figure size 432x288 with 1 Axes>"
            ]
          },
          "metadata": {
            "tags": []
          },
          "execution_count": 27
        },
        {
          "output_type": "display_data",
          "data": {
            "image/png": "[encoded data removed]",
            "text/plain": [
              "<Figure size 432x288 with 1 Axes>"
            ]
          },
          "metadata": {
            "tags": []
          }
        }
      ]
    },
    {
      "cell_type": "code",
      "metadata": {
        "id": "6987SwRBrSph",
        "colab_type": "code",
        "colab": {}
      },
      "source": [
        "# SO the values of Q can be [2,3,4]"
      ],
      "execution_count": 0,
      "outputs": []
    },
    {
      "cell_type": "code",
      "metadata": {
        "id": "-UUD2SPrrSmQ",
        "colab_type": "code",
        "colab": {
          "base_uri": "https://localhost:8080/",
          "height": 545
        },
        "outputId": "3cd2db7f-9b76-4186-a463-0b5ec5947a32"
      },
      "source": [
        "plot_pacf(forecast)"
      ],
      "execution_count": 29,
      "outputs": [
        {
          "output_type": "execute_result",
          "data": {
            "image/png": "[encoded data removed]",
            "text/plain": [
              "<Figure size 432x288 with 1 Axes>"
            ]
          },
          "metadata": {
            "tags": []
          },
          "execution_count": 29
        },
        {
          "output_type": "display_data",
          "data": {
            "image/png": "[encoded data removed]",
            "text/plain": [
              "<Figure size 432x288 with 1 Axes>"
            ]
          },
          "metadata": {
            "tags": []
          }
        }
      ]
    },
    {
      "cell_type": "code",
      "metadata": {
        "id": "_KRnN1hNtURP",
        "colab_type": "code",
        "colab": {}
      },
      "source": [
        "# SO we can take P value as [1,3,4]"
      ],
      "execution_count": 0,
      "outputs": []
    },
    {
      "cell_type": "code",
      "metadata": {
        "id": "povHZOGptn2H",
        "colab_type": "code",
        "colab": {
          "base_uri": "https://localhost:8080/",
          "height": 34
        },
        "outputId": "2e3d3dd2-5179-4e46-829b-9d01e16af4f3"
      },
      "source": [
        "train = forecast[0:round(len(forecast)*.8)]\n",
        "train.size"
      ],
      "execution_count": 40,
      "outputs": [
        {
          "output_type": "execute_result",
          "data": {
            "text/plain": [
              "78595"
            ]
          },
          "metadata": {
            "tags": []
          },
          "execution_count": 40
        }
      ]
    },
    {
      "cell_type": "code",
      "metadata": {
        "id": "-FBjKpYCM2BW",
        "colab_type": "code",
        "colab": {
          "base_uri": "https://localhost:8080/",
          "height": 34
        },
        "outputId": "8095a7b4-150e-4a1c-f13a-e859f23313ba"
      },
      "source": [
        "train.shape"
      ],
      "execution_count": 41,
      "outputs": [
        {
          "output_type": "execute_result",
          "data": {
            "text/plain": [
              "(78595, 1)"
            ]
          },
          "metadata": {
            "tags": []
          },
          "execution_count": 41
        }
      ]
    },
    {
      "cell_type": "code",
      "metadata": {
        "id": "NHM4rFg3tnzv",
        "colab_type": "code",
        "colab": {
          "base_uri": "https://localhost:8080/",
          "height": 34
        },
        "outputId": "53e3fdc1-993f-429d-9cac-2775c771e160"
      },
      "source": [
        "test = forecast[round(len(forecast)*.8):]\n",
        "test.size"
      ],
      "execution_count": 42,
      "outputs": [
        {
          "output_type": "execute_result",
          "data": {
            "text/plain": [
              "19649"
            ]
          },
          "metadata": {
            "tags": []
          },
          "execution_count": 42
        }
      ]
    },
    {
      "cell_type": "code",
      "metadata": {
        "id": "xXc6_V0ttnxM",
        "colab_type": "code",
        "colab": {}
      },
      "source": [
        "from statsmodels.tsa.arima_model import ARIMA"
      ],
      "execution_count": 0,
      "outputs": []
    },
    {
      "cell_type": "code",
      "metadata": {
        "id": "USt5b7Aftnue",
        "colab_type": "code",
        "colab": {
          "base_uri": "https://localhost:8080/",
          "height": 71
        },
        "outputId": "d932bb63-7f12-49d5-cdbf-dc964ddf2663"
      },
      "source": [
        "weather_model = ARIMA(train,order=(2,0,2)).fit()"
      ],
      "execution_count": 43,
      "outputs": [
        {
          "output_type": "stream",
          "text": [
            "/usr/local/lib/python3.6/dist-packages/statsmodels/tsa/base/tsa_model.py:219: ValueWarning: A date index has been provided, but it has no associated frequency information and so will be ignored when e.g. forecasting.\n",
            "  ' ignored when e.g. forecasting.', ValueWarning)\n"
          ],
          "name": "stderr"
        }
      ]
    },
    {
      "cell_type": "code",
      "metadata": {
        "id": "PG7gLgMxL2mF",
        "colab_type": "code",
        "colab": {
          "base_uri": "https://localhost:8080/",
          "height": 34
        },
        "outputId": "d3a936f6-3d08-4006-e343-06453fb9ba3c"
      },
      "source": [
        "weather_model.aic"
      ],
      "execution_count": 44,
      "outputs": [
        {
          "output_type": "execute_result",
          "data": {
            "text/plain": [
              "343013.51764958526"
            ]
          },
          "metadata": {
            "tags": []
          },
          "execution_count": 44
        }
      ]
    },
    {
      "cell_type": "code",
      "metadata": {
        "id": "t1JLltPNP8Of",
        "colab_type": "code",
        "colab": {}
      },
      "source": [
        "weather_forecast = weather_model.forecast(steps=19649)[0]"
      ],
      "execution_count": 0,
      "outputs": []
    },
    {
      "cell_type": "code",
      "metadata": {
        "id": "UIpsXYWsQuOc",
        "colab_type": "code",
        "colab": {
          "base_uri": "https://localhost:8080/",
          "height": 34
        },
        "outputId": "bbecb89f-c3a1-40a0-eda9-6dfdce883ea3"
      },
      "source": [
        "np.sqrt(mean_squared_error(weather_forecast,test))"
      ],
      "execution_count": 49,
      "outputs": [
        {
          "output_type": "execute_result",
          "data": {
            "text/plain": [
              "8.3808793899662"
            ]
          },
          "metadata": {
            "tags": []
          },
          "execution_count": 49
        }
      ]
    },
    {
      "cell_type": "code",
      "metadata": {
        "id": "k5x8b9BYQz0X",
        "colab_type": "code",
        "colab": {}
      },
      "source": [
        "# AGAIN the error rate if more when checked with ARIMA ; it could be because we chose the wrong p,q and d values .SO let's try hyperparameter tuning "
      ],
      "execution_count": 0,
      "outputs": []
    },
    {
      "cell_type": "code",
      "metadata": {
        "id": "lRJFmohFR7en",
        "colab_type": "code",
        "colab": {}
      },
      "source": [
        "p_value = range(0,5)\n",
        "q_value = range(0,5)\n",
        "d_value = range(0,3)"
      ],
      "execution_count": 0,
      "outputs": []
    },
    {
      "cell_type": "code",
      "metadata": {
        "id": "DDpgcd5XYFJY",
        "colab_type": "code",
        "colab": {}
      },
      "source": [
        "import warnings \n",
        "warnings.filterwarnings('ignore')"
      ],
      "execution_count": 0,
      "outputs": []
    },
    {
      "cell_type": "code",
      "metadata": {
        "id": "X4gPHazQR7dK",
        "colab_type": "code",
        "colab": {
          "base_uri": "https://localhost:8080/",
          "height": 1000
        },
        "outputId": "e46d9069-a8b7-45cf-89a8-06827f42977b"
      },
      "source": [
        "\n",
        "for p in p_value:\n",
        "  for q in q_value:\n",
        "    for d in d_value:\n",
        "      order = (p,d,q)\n",
        "      try:\n",
        "          \n",
        "        model = ARIMA(train,order=order).fit(disp=0)\n",
        "\n",
        "        print(f\"The AIC for this {order } is {model.aic}\")\n",
        "\n",
        "        predictions = model.forecast(steps=len(test))[0]\n",
        "        error = np.sqrt(mean_squared_error(predictions,test))\n",
        "\n",
        "        print(f\"The error is {error}\\n\")\n",
        "      except:\n",
        "        continue\n"
      ],
      "execution_count": 55,
      "outputs": [
        {
          "output_type": "stream",
          "text": [
            "The AIC for this (0, 0, 0) is 559477.097917704\n",
            "The error is 8.316581323999351\n",
            "\n",
            "The AIC for this (0, 1, 0) is 358624.731775008\n",
            "The error is 20.360294140131085\n",
            "\n",
            "The AIC for this (0, 2, 0) is 386622.5498092899\n",
            "The error is 10299.721187206043\n",
            "\n",
            "The AIC for this (0, 0, 1) is 473942.4411724516\n",
            "The error is 8.316111290769022\n",
            "\n",
            "The AIC for this (0, 1, 1) is 351259.74242731615\n",
            "The error is 20.503470229825226\n",
            "\n",
            "The AIC for this (0, 2, 1) is 358635.8649952054\n",
            "The error is 26.12584568623693\n",
            "\n",
            "The AIC for this (0, 1, 2) is 350986.5833505594\n",
            "The error is 20.730220337556126\n",
            "\n",
            "The AIC for this (0, 2, 2) is 351269.3430239993\n",
            "The error is 27.282132184931\n",
            "\n",
            "The AIC for this (0, 1, 3) is 348055.88498152525\n",
            "The error is 18.797497133617423\n",
            "\n",
            "The AIC for this (0, 2, 3) is 350995.9568317558\n",
            "The error is 26.27648327620529\n",
            "\n",
            "The AIC for this (0, 1, 4) is 344270.8083163495\n",
            "The error is 13.6510807141584\n",
            "\n",
            "The AIC for this (1, 0, 0) is 357093.8250473398\n",
            "The error is 8.300654618717049\n",
            "\n",
            "The AIC for this (1, 1, 0) is 351920.44014638785\n",
            "The error is 20.873564110978737\n",
            "\n",
            "The AIC for this (1, 2, 0) is 381092.24994713627\n",
            "The error is 12423.460155615396\n",
            "\n",
            "The AIC for this (1, 0, 1) is 348908.60426146525\n",
            "The error is 8.306682127853223\n",
            "\n",
            "The AIC for this (1, 1, 1) is 351153.60092348896\n",
            "The error is 20.603055746763147\n",
            "\n",
            "The AIC for this (1, 0, 2) is 348154.13449450734\n",
            "The error is 8.308838760256156\n",
            "\n",
            "The AIC for this (1, 1, 2) is 343018.95029763674\n",
            "The error is 12.068566729891334\n",
            "\n",
            "The AIC for this (1, 0, 3) is 346817.6008412628\n",
            "The error is 8.300312354315992\n",
            "\n",
            "The AIC for this (1, 1, 3) is 340208.2904023559\n",
            "The error is 12.353407257330357\n",
            "\n",
            "The AIC for this (1, 0, 4) is 344244.0636666033\n",
            "The error is 8.215554903433699\n",
            "\n",
            "The AIC for this (1, 1, 4) is 340147.9648487166\n",
            "The error is 12.395225590182122\n",
            "\n",
            "The AIC for this (2, 0, 0) is 349076.76954273734\n",
            "The error is 8.308946983435314\n",
            "\n",
            "The AIC for this (2, 1, 0) is 350139.4901995496\n",
            "The error is 20.171199530313636\n",
            "\n",
            "The AIC for this (2, 2, 0) is 378349.0930808984\n",
            "The error is 12688.560379713286\n",
            "\n",
            "The AIC for this (2, 0, 1) is 348550.72050052934\n",
            "The error is 8.308106715658315\n",
            "\n",
            "The AIC for this (2, 1, 1) is 340326.273534741\n",
            "The error is 12.559157472284511\n",
            "\n",
            "The AIC for this (2, 0, 2) is 343013.51764958526\n",
            "The error is 8.3808793899662\n",
            "\n",
            "The AIC for this (2, 1, 2) is 333511.27436608216\n",
            "The error is 16.510646954754563\n",
            "\n",
            "The AIC for this (2, 2, 2) is 340442.113451129\n",
            "The error is 338.7711295763481\n",
            "\n",
            "The AIC for this (2, 0, 3) is 340201.8281358211\n",
            "The error is 8.373643043883122\n",
            "\n",
            "The AIC for this (2, 1, 3) is 333084.7842386973\n",
            "The error is 16.925956331770397\n",
            "\n",
            "The AIC for this (2, 0, 4) is 340141.27876135684\n",
            "The error is 8.370766362802467\n",
            "\n",
            "The AIC for this (2, 1, 4) is 332778.1971514544\n",
            "The error is 16.414060154725423\n",
            "\n",
            "The AIC for this (3, 0, 0) is 347970.437885627\n",
            "The error is 8.306433757688204\n",
            "\n",
            "The AIC for this (3, 1, 0) is 346663.6546900691\n",
            "The error is 19.41320380549685\n",
            "\n",
            "The AIC for this (3, 2, 0) is 374182.4474166202\n",
            "The error is 20385.884361950364\n",
            "\n",
            "The AIC for this (3, 0, 1) is 340318.4609534986\n",
            "The error is 8.358909108220361\n",
            "\n",
            "The AIC for this (3, 1, 1) is 340325.0028636875\n",
            "The error is 12.575218460357336\n",
            "\n",
            "The AIC for this (3, 0, 2) is 332435.5800473804\n",
            "The error is 8.29672043744169\n",
            "\n",
            "The AIC for this (3, 1, 2) is 333158.06388827815\n",
            "The error is 16.900375963902327\n",
            "\n",
            "The AIC for this (3, 2, 2) is 341093.05296553776\n",
            "The error is 50.09467250318554\n",
            "\n",
            "The AIC for this (3, 0, 3) is 331835.99428987806\n",
            "The error is 8.299387260365139\n",
            "\n",
            "The AIC for this (3, 1, 3) is 332958.75912074797\n",
            "The error is 16.78187617579257\n",
            "\n",
            "The AIC for this (3, 0, 4) is 331666.17306009505\n",
            "The error is 8.297865364020875\n",
            "\n",
            "The AIC for this (3, 1, 4) is 328058.95054626936\n",
            "The error is 11.774428700146311\n",
            "\n",
            "The AIC for this (4, 0, 0) is 345211.4918296702\n",
            "The error is 8.300930309044853\n",
            "\n",
            "The AIC for this (4, 1, 0) is 344716.21184452006\n",
            "The error is 18.162632957911708\n",
            "\n",
            "The AIC for this (4, 2, 0) is 371883.90853476874\n",
            "The error is 23852.17330186866\n",
            "\n",
            "The AIC for this (4, 0, 1) is 342720.4850908092\n",
            "The error is 8.287088071438987\n",
            "\n",
            "The AIC for this (4, 1, 1) is 339755.56099906395\n",
            "The error is 12.380611879220305\n",
            "\n",
            "The AIC for this (4, 0, 2) is 331919.1465313114\n",
            "The error is 8.298944560612274\n",
            "\n",
            "The AIC for this (4, 1, 2) is 332650.467516799\n",
            "The error is 16.254806397413958\n",
            "\n",
            "The AIC for this (4, 2, 2) is 343051.415509247\n",
            "The error is 40.38289416532057\n",
            "\n",
            "The AIC for this (4, 0, 3) is 331748.9907413978\n",
            "The error is 8.298673667367675\n",
            "\n",
            "The AIC for this (4, 1, 3) is 332652.4117245035\n",
            "The error is 16.25616384883303\n",
            "\n",
            "The AIC for this (4, 0, 4) is 328055.93871938175\n",
            "The error is 8.36342441052328\n",
            "\n",
            "The AIC for this (4, 1, 4) is 327205.653615456\n",
            "The error is 16.243007640968465\n",
            "\n"
          ],
          "name": "stdout"
        }
      ]
    },
    {
      "cell_type": "code",
      "metadata": {
        "id": "LJVIgl7MR7Q2",
        "colab_type": "code",
        "colab": {}
      },
      "source": [
        ""
      ],
      "execution_count": 0,
      "outputs": []
    },
    {
      "cell_type": "code",
      "metadata": {
        "id": "leyxQcQIR7O1",
        "colab_type": "code",
        "colab": {}
      },
      "source": [
        ""
      ],
      "execution_count": 0,
      "outputs": []
    },
    {
      "cell_type": "code",
      "metadata": {
        "id": "DZDFvc9UR7L4",
        "colab_type": "code",
        "colab": {}
      },
      "source": [
        ""
      ],
      "execution_count": 0,
      "outputs": []
    }
  ]
}